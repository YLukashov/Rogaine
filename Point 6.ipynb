{
 "cells": [
  {
   "cell_type": "code",
   "execution_count": 47,
   "id": "4c749e62",
   "metadata": {
    "ExecuteTime": {
     "end_time": "2023-11-03T14:29:29.790789Z",
     "start_time": "2023-11-03T14:29:29.786881Z"
    }
   },
   "outputs": [],
   "source": [
    "import pandas as pd"
   ]
  },
  {
   "cell_type": "code",
   "execution_count": 48,
   "id": "4810235e",
   "metadata": {
    "ExecuteTime": {
     "end_time": "2023-11-03T14:29:33.660341Z",
     "start_time": "2023-11-03T14:29:30.394939Z"
    }
   },
   "outputs": [],
   "source": [
    "df = pd.read_excel('3.xlsx')  "
   ]
  },
  {
   "cell_type": "code",
   "execution_count": 49,
   "id": "e7a71164",
   "metadata": {
    "ExecuteTime": {
     "end_time": "2023-11-03T14:29:33.677747Z",
     "start_time": "2023-11-03T14:29:33.662338Z"
    }
   },
   "outputs": [
    {
     "data": {
      "text/html": [
       "<div>\n",
       "<style scoped>\n",
       "    .dataframe tbody tr th:only-of-type {\n",
       "        vertical-align: middle;\n",
       "    }\n",
       "\n",
       "    .dataframe tbody tr th {\n",
       "        vertical-align: top;\n",
       "    }\n",
       "\n",
       "    .dataframe thead th {\n",
       "        text-align: right;\n",
       "    }\n",
       "</style>\n",
       "<table border=\"1\" class=\"dataframe\">\n",
       "  <thead>\n",
       "    <tr style=\"text-align: right;\">\n",
       "      <th></th>\n",
       "      <th>Соревнование</th>\n",
       "      <th>Год проведения</th>\n",
       "      <th>ID участника</th>\n",
       "      <th>Место команды участника</th>\n",
       "      <th>Пол</th>\n",
       "      <th>Год рождения</th>\n",
       "      <th>Город проживания</th>\n",
       "    </tr>\n",
       "  </thead>\n",
       "  <tbody>\n",
       "    <tr>\n",
       "      <th>0</th>\n",
       "      <td>2014 весна</td>\n",
       "      <td>2014</td>\n",
       "      <td>1</td>\n",
       "      <td>602</td>\n",
       "      <td>М</td>\n",
       "      <td>1983</td>\n",
       "      <td>Москва</td>\n",
       "    </tr>\n",
       "    <tr>\n",
       "      <th>1</th>\n",
       "      <td>2014 весна</td>\n",
       "      <td>2014</td>\n",
       "      <td>2</td>\n",
       "      <td>17</td>\n",
       "      <td>М</td>\n",
       "      <td>1987</td>\n",
       "      <td>Москва</td>\n",
       "    </tr>\n",
       "    <tr>\n",
       "      <th>2</th>\n",
       "      <td>2014 весна</td>\n",
       "      <td>2014</td>\n",
       "      <td>3</td>\n",
       "      <td>122</td>\n",
       "      <td>М</td>\n",
       "      <td>1964</td>\n",
       "      <td>Новосибирск</td>\n",
       "    </tr>\n",
       "    <tr>\n",
       "      <th>3</th>\n",
       "      <td>2014 весна</td>\n",
       "      <td>2014</td>\n",
       "      <td>4</td>\n",
       "      <td>602</td>\n",
       "      <td>М</td>\n",
       "      <td>1982</td>\n",
       "      <td>Москва</td>\n",
       "    </tr>\n",
       "    <tr>\n",
       "      <th>4</th>\n",
       "      <td>2014 весна</td>\n",
       "      <td>2014</td>\n",
       "      <td>5</td>\n",
       "      <td>344</td>\n",
       "      <td>М</td>\n",
       "      <td>1983</td>\n",
       "      <td>Cанкт-Петербург</td>\n",
       "    </tr>\n",
       "    <tr>\n",
       "      <th>...</th>\n",
       "      <td>...</td>\n",
       "      <td>...</td>\n",
       "      <td>...</td>\n",
       "      <td>...</td>\n",
       "      <td>...</td>\n",
       "      <td>...</td>\n",
       "      <td>...</td>\n",
       "    </tr>\n",
       "    <tr>\n",
       "      <th>16500</th>\n",
       "      <td>2018 осень</td>\n",
       "      <td>2018</td>\n",
       "      <td>16501</td>\n",
       "      <td>35</td>\n",
       "      <td>М</td>\n",
       "      <td>1980</td>\n",
       "      <td>Москва</td>\n",
       "    </tr>\n",
       "    <tr>\n",
       "      <th>16501</th>\n",
       "      <td>2018 осень</td>\n",
       "      <td>2018</td>\n",
       "      <td>16502</td>\n",
       "      <td>165</td>\n",
       "      <td>М</td>\n",
       "      <td>1981</td>\n",
       "      <td>Москва</td>\n",
       "    </tr>\n",
       "    <tr>\n",
       "      <th>16502</th>\n",
       "      <td>2018 осень</td>\n",
       "      <td>2018</td>\n",
       "      <td>16503</td>\n",
       "      <td>165</td>\n",
       "      <td>Ж</td>\n",
       "      <td>1983</td>\n",
       "      <td>Москва</td>\n",
       "    </tr>\n",
       "    <tr>\n",
       "      <th>16503</th>\n",
       "      <td>2018 осень</td>\n",
       "      <td>2018</td>\n",
       "      <td>16504</td>\n",
       "      <td>590</td>\n",
       "      <td>Ж</td>\n",
       "      <td>1978</td>\n",
       "      <td>Смоленск</td>\n",
       "    </tr>\n",
       "    <tr>\n",
       "      <th>16504</th>\n",
       "      <td>2018 осень</td>\n",
       "      <td>2018</td>\n",
       "      <td>16505</td>\n",
       "      <td>590</td>\n",
       "      <td>Ж</td>\n",
       "      <td>1980</td>\n",
       "      <td>Смоленск</td>\n",
       "    </tr>\n",
       "  </tbody>\n",
       "</table>\n",
       "<p>16505 rows × 7 columns</p>\n",
       "</div>"
      ],
      "text/plain": [
       "      Соревнование  Год проведения  ID участника  Место команды участника Пол   \n",
       "0       2014 весна            2014             1                      602   М  \\\n",
       "1       2014 весна            2014             2                       17   М   \n",
       "2       2014 весна            2014             3                      122   М   \n",
       "3       2014 весна            2014             4                      602   М   \n",
       "4       2014 весна            2014             5                      344   М   \n",
       "...            ...             ...           ...                      ...  ..   \n",
       "16500   2018 осень            2018         16501                       35   М   \n",
       "16501   2018 осень            2018         16502                      165   М   \n",
       "16502   2018 осень            2018         16503                      165   Ж   \n",
       "16503   2018 осень            2018         16504                      590   Ж   \n",
       "16504   2018 осень            2018         16505                      590   Ж   \n",
       "\n",
       "       Год рождения Город проживания  \n",
       "0              1983           Москва  \n",
       "1              1987           Москва  \n",
       "2              1964      Новосибирск  \n",
       "3              1982           Москва  \n",
       "4              1983  Cанкт-Петербург  \n",
       "...             ...              ...  \n",
       "16500          1980           Москва  \n",
       "16501          1981           Москва  \n",
       "16502          1983           Москва  \n",
       "16503          1978         Смоленск  \n",
       "16504          1980         Смоленск  \n",
       "\n",
       "[16505 rows x 7 columns]"
      ]
     },
     "execution_count": 49,
     "metadata": {},
     "output_type": "execute_result"
    }
   ],
   "source": [
    "df"
   ]
  },
  {
   "cell_type": "code",
   "execution_count": 50,
   "id": "4b7c66e1",
   "metadata": {
    "ExecuteTime": {
     "end_time": "2023-11-03T14:29:37.419804Z",
     "start_time": "2023-11-03T14:29:37.403053Z"
    }
   },
   "outputs": [],
   "source": [
    "df['Город проживания'] = df['Город проживания'].apply(lambda x: x.capitalize())"
   ]
  },
  {
   "cell_type": "code",
   "execution_count": 51,
   "id": "b17d18b0",
   "metadata": {
    "ExecuteTime": {
     "end_time": "2023-11-03T14:29:37.823509Z",
     "start_time": "2023-11-03T14:29:37.813879Z"
    }
   },
   "outputs": [
    {
     "data": {
      "text/plain": [
       "363"
      ]
     },
     "execution_count": 51,
     "metadata": {},
     "output_type": "execute_result"
    }
   ],
   "source": [
    "len(df['Город проживания'].unique())"
   ]
  },
  {
   "cell_type": "code",
   "execution_count": 52,
   "id": "c1d01faa",
   "metadata": {
    "ExecuteTime": {
     "end_time": "2023-11-03T14:29:41.380027Z",
     "start_time": "2023-11-03T14:29:41.366355Z"
    }
   },
   "outputs": [],
   "source": [
    "def return_ok(string_defect):\n",
    "    list_of_defects = ['Cанкт-петербург', 'Санкт-петербург', 'Ленинград-обнинск-москва', 'Ленинград', 'Спб', 'St. petersburg', 'Петербург']\n",
    "    if string_defect in list_of_defects:\n",
    "        return \"Cанкт-петербург\"\n",
    "    else:\n",
    "        return string_defect\n",
    "    \n",
    "df['Город проживания'] = df['Город проживания'].apply(lambda x: return_ok(x))            "
   ]
  },
  {
   "cell_type": "markdown",
   "id": "2ade908d",
   "metadata": {},
   "source": [
    "Были выписаны все возможные варианты написания города 'Cанкт-петербург' и объеденены в 1, вариантов написания 'Екатеринбург' - 1, поэтому с ним не были проведены манипуляции. "
   ]
  },
  {
   "cell_type": "markdown",
   "id": "925f6b02",
   "metadata": {},
   "source": [
    "Учатников с городом \"Ленинград-обнинск-москва\" = 10, поэтому даже если их не считать, все равно \"Cанкт-петербург\" на первом месте"
   ]
  },
  {
   "cell_type": "code",
   "execution_count": 53,
   "id": "446f84d4",
   "metadata": {
    "ExecuteTime": {
     "end_time": "2023-11-03T14:29:42.053181Z",
     "start_time": "2023-11-03T14:29:42.044131Z"
    }
   },
   "outputs": [
    {
     "data": {
      "text/plain": [
       "357"
      ]
     },
     "execution_count": 53,
     "metadata": {},
     "output_type": "execute_result"
    }
   ],
   "source": [
    "len(df['Город проживания'].unique())"
   ]
  },
  {
   "cell_type": "code",
   "execution_count": 54,
   "id": "4b210d78",
   "metadata": {
    "ExecuteTime": {
     "end_time": "2023-11-03T14:29:48.528393Z",
     "start_time": "2023-11-03T14:29:48.512357Z"
    },
    "scrolled": true
   },
   "outputs": [
    {
     "data": {
      "text/html": [
       "<div>\n",
       "<style scoped>\n",
       "    .dataframe tbody tr th:only-of-type {\n",
       "        vertical-align: middle;\n",
       "    }\n",
       "\n",
       "    .dataframe tbody tr th {\n",
       "        vertical-align: top;\n",
       "    }\n",
       "\n",
       "    .dataframe thead th {\n",
       "        text-align: right;\n",
       "    }\n",
       "</style>\n",
       "<table border=\"1\" class=\"dataframe\">\n",
       "  <thead>\n",
       "    <tr style=\"text-align: right;\">\n",
       "      <th></th>\n",
       "      <th>Соревнование</th>\n",
       "      <th>Год проведения</th>\n",
       "      <th>ID участника</th>\n",
       "      <th>Место команды участника</th>\n",
       "      <th>Пол</th>\n",
       "      <th>Год рождения</th>\n",
       "      <th>Город проживания</th>\n",
       "    </tr>\n",
       "  </thead>\n",
       "  <tbody>\n",
       "    <tr>\n",
       "      <th>0</th>\n",
       "      <td>2014 весна</td>\n",
       "      <td>2014</td>\n",
       "      <td>1</td>\n",
       "      <td>602</td>\n",
       "      <td>М</td>\n",
       "      <td>1983</td>\n",
       "      <td>Москва</td>\n",
       "    </tr>\n",
       "    <tr>\n",
       "      <th>1</th>\n",
       "      <td>2014 весна</td>\n",
       "      <td>2014</td>\n",
       "      <td>2</td>\n",
       "      <td>17</td>\n",
       "      <td>М</td>\n",
       "      <td>1987</td>\n",
       "      <td>Москва</td>\n",
       "    </tr>\n",
       "    <tr>\n",
       "      <th>2</th>\n",
       "      <td>2014 весна</td>\n",
       "      <td>2014</td>\n",
       "      <td>3</td>\n",
       "      <td>122</td>\n",
       "      <td>М</td>\n",
       "      <td>1964</td>\n",
       "      <td>Новосибирск</td>\n",
       "    </tr>\n",
       "    <tr>\n",
       "      <th>3</th>\n",
       "      <td>2014 весна</td>\n",
       "      <td>2014</td>\n",
       "      <td>4</td>\n",
       "      <td>602</td>\n",
       "      <td>М</td>\n",
       "      <td>1982</td>\n",
       "      <td>Москва</td>\n",
       "    </tr>\n",
       "    <tr>\n",
       "      <th>4</th>\n",
       "      <td>2014 весна</td>\n",
       "      <td>2014</td>\n",
       "      <td>5</td>\n",
       "      <td>344</td>\n",
       "      <td>М</td>\n",
       "      <td>1983</td>\n",
       "      <td>Cанкт-петербург</td>\n",
       "    </tr>\n",
       "    <tr>\n",
       "      <th>...</th>\n",
       "      <td>...</td>\n",
       "      <td>...</td>\n",
       "      <td>...</td>\n",
       "      <td>...</td>\n",
       "      <td>...</td>\n",
       "      <td>...</td>\n",
       "      <td>...</td>\n",
       "    </tr>\n",
       "    <tr>\n",
       "      <th>16500</th>\n",
       "      <td>2018 осень</td>\n",
       "      <td>2018</td>\n",
       "      <td>16501</td>\n",
       "      <td>35</td>\n",
       "      <td>М</td>\n",
       "      <td>1980</td>\n",
       "      <td>Москва</td>\n",
       "    </tr>\n",
       "    <tr>\n",
       "      <th>16501</th>\n",
       "      <td>2018 осень</td>\n",
       "      <td>2018</td>\n",
       "      <td>16502</td>\n",
       "      <td>165</td>\n",
       "      <td>М</td>\n",
       "      <td>1981</td>\n",
       "      <td>Москва</td>\n",
       "    </tr>\n",
       "    <tr>\n",
       "      <th>16502</th>\n",
       "      <td>2018 осень</td>\n",
       "      <td>2018</td>\n",
       "      <td>16503</td>\n",
       "      <td>165</td>\n",
       "      <td>Ж</td>\n",
       "      <td>1983</td>\n",
       "      <td>Москва</td>\n",
       "    </tr>\n",
       "    <tr>\n",
       "      <th>16503</th>\n",
       "      <td>2018 осень</td>\n",
       "      <td>2018</td>\n",
       "      <td>16504</td>\n",
       "      <td>590</td>\n",
       "      <td>Ж</td>\n",
       "      <td>1978</td>\n",
       "      <td>Смоленск</td>\n",
       "    </tr>\n",
       "    <tr>\n",
       "      <th>16504</th>\n",
       "      <td>2018 осень</td>\n",
       "      <td>2018</td>\n",
       "      <td>16505</td>\n",
       "      <td>590</td>\n",
       "      <td>Ж</td>\n",
       "      <td>1980</td>\n",
       "      <td>Смоленск</td>\n",
       "    </tr>\n",
       "  </tbody>\n",
       "</table>\n",
       "<p>16505 rows × 7 columns</p>\n",
       "</div>"
      ],
      "text/plain": [
       "      Соревнование  Год проведения  ID участника  Место команды участника Пол   \n",
       "0       2014 весна            2014             1                      602   М  \\\n",
       "1       2014 весна            2014             2                       17   М   \n",
       "2       2014 весна            2014             3                      122   М   \n",
       "3       2014 весна            2014             4                      602   М   \n",
       "4       2014 весна            2014             5                      344   М   \n",
       "...            ...             ...           ...                      ...  ..   \n",
       "16500   2018 осень            2018         16501                       35   М   \n",
       "16501   2018 осень            2018         16502                      165   М   \n",
       "16502   2018 осень            2018         16503                      165   Ж   \n",
       "16503   2018 осень            2018         16504                      590   Ж   \n",
       "16504   2018 осень            2018         16505                      590   Ж   \n",
       "\n",
       "       Год рождения Город проживания  \n",
       "0              1983           Москва  \n",
       "1              1987           Москва  \n",
       "2              1964      Новосибирск  \n",
       "3              1982           Москва  \n",
       "4              1983  Cанкт-петербург  \n",
       "...             ...              ...  \n",
       "16500          1980           Москва  \n",
       "16501          1981           Москва  \n",
       "16502          1983           Москва  \n",
       "16503          1978         Смоленск  \n",
       "16504          1980         Смоленск  \n",
       "\n",
       "[16505 rows x 7 columns]"
      ]
     },
     "execution_count": 54,
     "metadata": {},
     "output_type": "execute_result"
    }
   ],
   "source": [
    "df"
   ]
  },
  {
   "cell_type": "code",
   "execution_count": 76,
   "id": "b2d16380",
   "metadata": {
    "ExecuteTime": {
     "end_time": "2023-11-03T15:01:51.301408Z",
     "start_time": "2023-11-03T15:01:51.287910Z"
    }
   },
   "outputs": [
    {
     "name": "stdout",
     "output_type": "stream",
     "text": [
      "356\n"
     ]
    }
   ],
   "source": [
    "def return_ok(string_defect):\n",
    "    list_of_defects = ['Королёв', 'Королев']\n",
    "    if string_defect in list_of_defects:\n",
    "        return \"Королев\"\n",
    "    else:\n",
    "        return string_defect\n",
    "    \n",
    "df['Город проживания'] = df['Город проживания'].apply(lambda x: return_ok(x))  \n",
    "print(len(df['Город проживания'].unique()))"
   ]
  },
  {
   "cell_type": "code",
   "execution_count": 77,
   "id": "fd339705",
   "metadata": {
    "ExecuteTime": {
     "end_time": "2023-11-03T15:01:53.007129Z",
     "start_time": "2023-11-03T15:01:52.991369Z"
    }
   },
   "outputs": [
    {
     "name": "stdout",
     "output_type": "stream",
     "text": [
      "353\n"
     ]
    }
   ],
   "source": [
    "def return_ok(string_defect):\n",
    "    list_of_defects = ['Москва', 'Мск', 'Moscow', 'Москва ']\n",
    "    if string_defect in list_of_defects:\n",
    "        return \"Москва\"\n",
    "    else:\n",
    "        return string_defect\n",
    "    \n",
    "df['Город проживания'] = df['Город проживания'].apply(lambda x: return_ok(x))  \n",
    "print(len(df['Город проживания'].unique()))"
   ]
  },
  {
   "cell_type": "code",
   "execution_count": 78,
   "id": "e1e3054f",
   "metadata": {
    "ExecuteTime": {
     "end_time": "2023-11-03T15:02:03.821812Z",
     "start_time": "2023-11-03T15:02:03.814285Z"
    }
   },
   "outputs": [],
   "source": [
    "cur = df['Город проживания'].value_counts()"
   ]
  },
  {
   "cell_type": "code",
   "execution_count": 79,
   "id": "d7421f8c",
   "metadata": {
    "ExecuteTime": {
     "end_time": "2023-11-03T15:02:04.387313Z",
     "start_time": "2023-11-03T15:02:04.380687Z"
    },
    "scrolled": false
   },
   "outputs": [
    {
     "data": {
      "text/plain": [
       "Город проживания\n",
       "Москва             9586\n",
       "Cанкт-петербург    1508\n",
       "Екатеринбург       1435\n",
       "Зеленоград          170\n",
       "Долгопрудный        159\n",
       "                   ... \n",
       "Орехово-зеуво         1\n",
       "Невьянск              1\n",
       "Copenhagen            1\n",
       "Череповец             1\n",
       "Мо, лыткарино         1\n",
       "Name: count, Length: 353, dtype: int64"
      ]
     },
     "execution_count": 79,
     "metadata": {},
     "output_type": "execute_result"
    }
   ],
   "source": [
    "cur"
   ]
  },
  {
   "cell_type": "code",
   "execution_count": 86,
   "id": "df2b5b03",
   "metadata": {
    "ExecuteTime": {
     "end_time": "2023-11-03T15:12:36.246861Z",
     "start_time": "2023-11-03T15:12:36.240428Z"
    }
   },
   "outputs": [
    {
     "name": "stdout",
     "output_type": "stream",
     "text": [
      "0.930748258103605\n"
     ]
    }
   ],
   "source": [
    "cnt_cities = 0\n",
    "for i in range(61):\n",
    "    cnt_cities += cur[i]\n",
    "print(cnt_cities / 16505)"
   ]
  },
  {
   "cell_type": "code",
   "execution_count": 89,
   "id": "1fd36d98",
   "metadata": {
    "ExecuteTime": {
     "end_time": "2023-11-03T15:16:43.476286Z",
     "start_time": "2023-11-03T15:16:43.471418Z"
    }
   },
   "outputs": [
    {
     "name": "stdout",
     "output_type": "stream",
     "text": [
      "Москва\n",
      "Cанкт-петербург\n",
      "Екатеринбург\n",
      "Зеленоград\n",
      "Долгопрудный\n",
      "Королев\n",
      "Салехард\n",
      "Рязань\n",
      "Люберцы\n",
      "Подольск\n",
      "Мытищи\n",
      "Химки\n",
      "Одинцово\n",
      "Железнодорожный\n",
      "Красногорск\n",
      "Балашиха\n",
      "Воронеж\n",
      "Тверь\n",
      "Обнинск\n",
      "Жуковский\n",
      "Пушкино\n",
      "Дубна\n",
      "Тула\n",
      "Электросталь\n",
      "Лыткарино\n",
      "Черноголовка\n",
      "Раменское\n",
      "Калуга\n",
      "Лобня\n",
      "Ногинск\n",
      "Дмитров\n",
      "Домодедово\n",
      "Липецк\n",
      "Фрязино\n",
      "Пущино\n",
      "Ивантеевка\n",
      "Сергиев посад\n",
      "Владимир\n",
      "Тамбов\n",
      "Лабытнанги\n",
      "Ярославль\n",
      "Шевлягино\n",
      "Смоленск\n",
      "Троицк\n",
      "Краснознаменск\n",
      "Таллин\n",
      "Нижний новгород\n",
      "Белгород\n",
      "Коломна\n",
      "Волгоград\n",
      "Пос. ильинский\n",
      "Щелково\n",
      "Солнечногорск\n",
      "Монино\n",
      "Димитровград\n",
      "Наро-фоминск\n",
      "Реутов\n",
      "Видное\n",
      "Чехов\n",
      "Электроугли\n",
      "Дзержинский\n"
     ]
    }
   ],
   "source": [
    "for i in range(61):\n",
    "    print(cur.index[i])"
   ]
  },
  {
   "cell_type": "markdown",
   "id": "8b77aec8",
   "metadata": {},
   "source": [
    "Возьмем первые 61 город после чистки данных(они уникальны). Они покрывают 92 % от всех городов. Близжайший город к нашей 3, который может по итогу войти в топ 3 это \"Зеленоград\". Предположим, что все оставшиеся города(не всключая наши первые 61) неправильно написаны и каждый из учатников имел в виду \"Зеленоград\" => 170 + (1 - 0.93) * 16505 ≈ 1325, что меньше у наименьшего из топ 3(1435), а значит, что итоговая тройка не изменится."
   ]
  },
  {
   "cell_type": "markdown",
   "id": "0cf0d4da",
   "metadata": {
    "ExecuteTime": {
     "end_time": "2023-11-03T15:16:27.720502Z",
     "start_time": "2023-11-03T15:16:27.714358Z"
    }
   },
   "source": [
    "### Жители города \"Москва\", \"Cанкт-петербург\", \"Екатеринбург\" больше всего представлены в соревнованиях"
   ]
  },
  {
   "cell_type": "code",
   "execution_count": null,
   "id": "12d94b1c",
   "metadata": {},
   "outputs": [],
   "source": []
  }
 ],
 "metadata": {
  "kernelspec": {
   "display_name": "Python 3 (ipykernel)",
   "language": "python",
   "name": "python3"
  },
  "language_info": {
   "codemirror_mode": {
    "name": "ipython",
    "version": 3
   },
   "file_extension": ".py",
   "mimetype": "text/x-python",
   "name": "python",
   "nbconvert_exporter": "python",
   "pygments_lexer": "ipython3",
   "version": "3.11.3"
  },
  "toc": {
   "base_numbering": 1,
   "nav_menu": {},
   "number_sections": true,
   "sideBar": true,
   "skip_h1_title": false,
   "title_cell": "Table of Contents",
   "title_sidebar": "Contents",
   "toc_cell": false,
   "toc_position": {},
   "toc_section_display": true,
   "toc_window_display": false
  }
 },
 "nbformat": 4,
 "nbformat_minor": 5
}
