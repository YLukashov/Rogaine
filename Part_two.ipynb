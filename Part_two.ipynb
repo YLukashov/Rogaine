{
 "cells": [
  {
   "cell_type": "code",
   "execution_count": 6,
   "id": "6de73baa",
   "metadata": {
    "ExecuteTime": {
     "end_time": "2023-11-02T21:42:49.632200Z",
     "start_time": "2023-11-02T21:42:49.081483Z"
    }
   },
   "outputs": [],
   "source": [
    "import pandas as pd"
   ]
  },
  {
   "cell_type": "markdown",
   "id": "cc11a67d",
   "metadata": {},
   "source": [
    "## point 4"
   ]
  },
  {
   "cell_type": "code",
   "execution_count": 65,
   "id": "874a4719",
   "metadata": {
    "ExecuteTime": {
     "end_time": "2023-11-02T22:17:31.549192Z",
     "start_time": "2023-11-02T22:17:28.395146Z"
    }
   },
   "outputs": [],
   "source": [
    "df = pd.read_excel('3.xlsx')  "
   ]
  },
  {
   "cell_type": "code",
   "execution_count": 66,
   "id": "a50dd5c7",
   "metadata": {
    "ExecuteTime": {
     "end_time": "2023-11-02T22:17:32.103021Z",
     "start_time": "2023-11-02T22:17:32.087826Z"
    },
    "scrolled": false
   },
   "outputs": [
    {
     "data": {
      "text/html": [
       "<div>\n",
       "<style scoped>\n",
       "    .dataframe tbody tr th:only-of-type {\n",
       "        vertical-align: middle;\n",
       "    }\n",
       "\n",
       "    .dataframe tbody tr th {\n",
       "        vertical-align: top;\n",
       "    }\n",
       "\n",
       "    .dataframe thead th {\n",
       "        text-align: right;\n",
       "    }\n",
       "</style>\n",
       "<table border=\"1\" class=\"dataframe\">\n",
       "  <thead>\n",
       "    <tr style=\"text-align: right;\">\n",
       "      <th></th>\n",
       "      <th>Соревнование</th>\n",
       "      <th>Год проведения</th>\n",
       "      <th>ID участника</th>\n",
       "      <th>Место команды участника</th>\n",
       "      <th>Пол</th>\n",
       "      <th>Год рождения</th>\n",
       "      <th>Город проживания</th>\n",
       "    </tr>\n",
       "  </thead>\n",
       "  <tbody>\n",
       "    <tr>\n",
       "      <th>0</th>\n",
       "      <td>2014 весна</td>\n",
       "      <td>2014</td>\n",
       "      <td>1</td>\n",
       "      <td>602</td>\n",
       "      <td>М</td>\n",
       "      <td>1983</td>\n",
       "      <td>Москва</td>\n",
       "    </tr>\n",
       "    <tr>\n",
       "      <th>1</th>\n",
       "      <td>2014 весна</td>\n",
       "      <td>2014</td>\n",
       "      <td>2</td>\n",
       "      <td>17</td>\n",
       "      <td>М</td>\n",
       "      <td>1987</td>\n",
       "      <td>Москва</td>\n",
       "    </tr>\n",
       "    <tr>\n",
       "      <th>2</th>\n",
       "      <td>2014 весна</td>\n",
       "      <td>2014</td>\n",
       "      <td>3</td>\n",
       "      <td>122</td>\n",
       "      <td>М</td>\n",
       "      <td>1964</td>\n",
       "      <td>Новосибирск</td>\n",
       "    </tr>\n",
       "    <tr>\n",
       "      <th>3</th>\n",
       "      <td>2014 весна</td>\n",
       "      <td>2014</td>\n",
       "      <td>4</td>\n",
       "      <td>602</td>\n",
       "      <td>М</td>\n",
       "      <td>1982</td>\n",
       "      <td>Москва</td>\n",
       "    </tr>\n",
       "    <tr>\n",
       "      <th>4</th>\n",
       "      <td>2014 весна</td>\n",
       "      <td>2014</td>\n",
       "      <td>5</td>\n",
       "      <td>344</td>\n",
       "      <td>М</td>\n",
       "      <td>1983</td>\n",
       "      <td>Cанкт-Петербург</td>\n",
       "    </tr>\n",
       "    <tr>\n",
       "      <th>...</th>\n",
       "      <td>...</td>\n",
       "      <td>...</td>\n",
       "      <td>...</td>\n",
       "      <td>...</td>\n",
       "      <td>...</td>\n",
       "      <td>...</td>\n",
       "      <td>...</td>\n",
       "    </tr>\n",
       "    <tr>\n",
       "      <th>16500</th>\n",
       "      <td>2018 осень</td>\n",
       "      <td>2018</td>\n",
       "      <td>16501</td>\n",
       "      <td>35</td>\n",
       "      <td>М</td>\n",
       "      <td>1980</td>\n",
       "      <td>Москва</td>\n",
       "    </tr>\n",
       "    <tr>\n",
       "      <th>16501</th>\n",
       "      <td>2018 осень</td>\n",
       "      <td>2018</td>\n",
       "      <td>16502</td>\n",
       "      <td>165</td>\n",
       "      <td>М</td>\n",
       "      <td>1981</td>\n",
       "      <td>Москва</td>\n",
       "    </tr>\n",
       "    <tr>\n",
       "      <th>16502</th>\n",
       "      <td>2018 осень</td>\n",
       "      <td>2018</td>\n",
       "      <td>16503</td>\n",
       "      <td>165</td>\n",
       "      <td>Ж</td>\n",
       "      <td>1983</td>\n",
       "      <td>Москва</td>\n",
       "    </tr>\n",
       "    <tr>\n",
       "      <th>16503</th>\n",
       "      <td>2018 осень</td>\n",
       "      <td>2018</td>\n",
       "      <td>16504</td>\n",
       "      <td>590</td>\n",
       "      <td>Ж</td>\n",
       "      <td>1978</td>\n",
       "      <td>Смоленск</td>\n",
       "    </tr>\n",
       "    <tr>\n",
       "      <th>16504</th>\n",
       "      <td>2018 осень</td>\n",
       "      <td>2018</td>\n",
       "      <td>16505</td>\n",
       "      <td>590</td>\n",
       "      <td>Ж</td>\n",
       "      <td>1980</td>\n",
       "      <td>Смоленск</td>\n",
       "    </tr>\n",
       "  </tbody>\n",
       "</table>\n",
       "<p>16505 rows × 7 columns</p>\n",
       "</div>"
      ],
      "text/plain": [
       "      Соревнование  Год проведения  ID участника  Место команды участника Пол   \n",
       "0       2014 весна            2014             1                      602   М  \\\n",
       "1       2014 весна            2014             2                       17   М   \n",
       "2       2014 весна            2014             3                      122   М   \n",
       "3       2014 весна            2014             4                      602   М   \n",
       "4       2014 весна            2014             5                      344   М   \n",
       "...            ...             ...           ...                      ...  ..   \n",
       "16500   2018 осень            2018         16501                       35   М   \n",
       "16501   2018 осень            2018         16502                      165   М   \n",
       "16502   2018 осень            2018         16503                      165   Ж   \n",
       "16503   2018 осень            2018         16504                      590   Ж   \n",
       "16504   2018 осень            2018         16505                      590   Ж   \n",
       "\n",
       "       Год рождения Город проживания  \n",
       "0              1983           Москва  \n",
       "1              1987           Москва  \n",
       "2              1964      Новосибирск  \n",
       "3              1982           Москва  \n",
       "4              1983  Cанкт-Петербург  \n",
       "...             ...              ...  \n",
       "16500          1980           Москва  \n",
       "16501          1981           Москва  \n",
       "16502          1983           Москва  \n",
       "16503          1978         Смоленск  \n",
       "16504          1980         Смоленск  \n",
       "\n",
       "[16505 rows x 7 columns]"
      ]
     },
     "execution_count": 66,
     "metadata": {},
     "output_type": "execute_result"
    }
   ],
   "source": [
    "df"
   ]
  },
  {
   "cell_type": "code",
   "execution_count": 67,
   "id": "2d85c33c",
   "metadata": {
    "ExecuteTime": {
     "end_time": "2023-11-02T22:17:43.583393Z",
     "start_time": "2023-11-02T22:17:43.557900Z"
    },
    "scrolled": true
   },
   "outputs": [
    {
     "data": {
      "text/html": [
       "<div>\n",
       "<style scoped>\n",
       "    .dataframe tbody tr th:only-of-type {\n",
       "        vertical-align: middle;\n",
       "    }\n",
       "\n",
       "    .dataframe tbody tr th {\n",
       "        vertical-align: top;\n",
       "    }\n",
       "\n",
       "    .dataframe thead th {\n",
       "        text-align: right;\n",
       "    }\n",
       "</style>\n",
       "<table border=\"1\" class=\"dataframe\">\n",
       "  <thead>\n",
       "    <tr style=\"text-align: right;\">\n",
       "      <th></th>\n",
       "      <th>Год проведения</th>\n",
       "      <th>ID участника</th>\n",
       "      <th>Место команды участника</th>\n",
       "      <th>Год рождения</th>\n",
       "    </tr>\n",
       "  </thead>\n",
       "  <tbody>\n",
       "    <tr>\n",
       "      <th>count</th>\n",
       "      <td>16505.000000</td>\n",
       "      <td>16505.000000</td>\n",
       "      <td>16505.000000</td>\n",
       "      <td>16505.000000</td>\n",
       "    </tr>\n",
       "    <tr>\n",
       "      <th>mean</th>\n",
       "      <td>2015.875250</td>\n",
       "      <td>8253.000000</td>\n",
       "      <td>410.075795</td>\n",
       "      <td>1985.020297</td>\n",
       "    </tr>\n",
       "    <tr>\n",
       "      <th>std</th>\n",
       "      <td>1.372911</td>\n",
       "      <td>4764.727432</td>\n",
       "      <td>196.216319</td>\n",
       "      <td>8.392928</td>\n",
       "    </tr>\n",
       "    <tr>\n",
       "      <th>min</th>\n",
       "      <td>2014.000000</td>\n",
       "      <td>1.000000</td>\n",
       "      <td>1.000000</td>\n",
       "      <td>1930.000000</td>\n",
       "    </tr>\n",
       "    <tr>\n",
       "      <th>25%</th>\n",
       "      <td>2015.000000</td>\n",
       "      <td>4127.000000</td>\n",
       "      <td>280.000000</td>\n",
       "      <td>1981.000000</td>\n",
       "    </tr>\n",
       "    <tr>\n",
       "      <th>50%</th>\n",
       "      <td>2016.000000</td>\n",
       "      <td>8253.000000</td>\n",
       "      <td>398.000000</td>\n",
       "      <td>1986.000000</td>\n",
       "    </tr>\n",
       "    <tr>\n",
       "      <th>75%</th>\n",
       "      <td>2017.000000</td>\n",
       "      <td>12379.000000</td>\n",
       "      <td>578.000000</td>\n",
       "      <td>1990.000000</td>\n",
       "    </tr>\n",
       "    <tr>\n",
       "      <th>max</th>\n",
       "      <td>2018.000000</td>\n",
       "      <td>16505.000000</td>\n",
       "      <td>713.000000</td>\n",
       "      <td>2017.000000</td>\n",
       "    </tr>\n",
       "  </tbody>\n",
       "</table>\n",
       "</div>"
      ],
      "text/plain": [
       "       Год проведения  ID участника  Место команды участника  Год рождения\n",
       "count    16505.000000  16505.000000             16505.000000  16505.000000\n",
       "mean      2015.875250   8253.000000               410.075795   1985.020297\n",
       "std          1.372911   4764.727432               196.216319      8.392928\n",
       "min       2014.000000      1.000000                 1.000000   1930.000000\n",
       "25%       2015.000000   4127.000000               280.000000   1981.000000\n",
       "50%       2016.000000   8253.000000               398.000000   1986.000000\n",
       "75%       2017.000000  12379.000000               578.000000   1990.000000\n",
       "max       2018.000000  16505.000000               713.000000   2017.000000"
      ]
     },
     "execution_count": 67,
     "metadata": {},
     "output_type": "execute_result"
    }
   ],
   "source": [
    "df.describe()"
   ]
  },
  {
   "cell_type": "code",
   "execution_count": 68,
   "id": "ca735fa6",
   "metadata": {
    "ExecuteTime": {
     "end_time": "2023-11-02T22:17:48.422775Z",
     "start_time": "2023-11-02T22:17:48.409272Z"
    },
    "scrolled": false
   },
   "outputs": [
    {
     "name": "stdout",
     "output_type": "stream",
     "text": [
      "<class 'pandas.core.frame.DataFrame'>\n",
      "RangeIndex: 16505 entries, 0 to 16504\n",
      "Data columns (total 7 columns):\n",
      " #   Column                   Non-Null Count  Dtype \n",
      "---  ------                   --------------  ----- \n",
      " 0   Соревнование             16505 non-null  object\n",
      " 1   Год проведения           16505 non-null  int64 \n",
      " 2   ID участника             16505 non-null  int64 \n",
      " 3   Место команды участника  16505 non-null  int64 \n",
      " 4   Пол                      16505 non-null  object\n",
      " 5   Год рождения             16505 non-null  int64 \n",
      " 6   Город проживания         16505 non-null  object\n",
      "dtypes: int64(4), object(3)\n",
      "memory usage: 902.7+ KB\n"
     ]
    }
   ],
   "source": [
    "df.info()"
   ]
  },
  {
   "cell_type": "code",
   "execution_count": 69,
   "id": "a14ada5c",
   "metadata": {
    "ExecuteTime": {
     "end_time": "2023-11-02T22:17:50.935431Z",
     "start_time": "2023-11-02T22:17:50.926782Z"
    }
   },
   "outputs": [
    {
     "data": {
      "text/plain": [
       "0"
      ]
     },
     "execution_count": 69,
     "metadata": {},
     "output_type": "execute_result"
    }
   ],
   "source": [
    "df.isnull().sum().sum()"
   ]
  },
  {
   "cell_type": "code",
   "execution_count": 188,
   "id": "a9eeaa93",
   "metadata": {
    "ExecuteTime": {
     "end_time": "2023-11-03T11:39:11.884678Z",
     "start_time": "2023-11-03T11:39:11.862745Z"
    }
   },
   "outputs": [
    {
     "data": {
      "text/plain": [
       "0        1983\n",
       "1        1987\n",
       "2        1964\n",
       "3        1982\n",
       "4        1983\n",
       "         ... \n",
       "16500    1980\n",
       "16501    1981\n",
       "16502    1983\n",
       "16503    1978\n",
       "16504    1980\n",
       "Name: Год рождения, Length: 16505, dtype: int64"
      ]
     },
     "execution_count": 188,
     "metadata": {},
     "output_type": "execute_result"
    }
   ],
   "source": [
    "df['Год рождения']"
   ]
  },
  {
   "cell_type": "markdown",
   "id": "3f57c403",
   "metadata": {},
   "source": [
    "У нас отсуствуют нулевые значения"
   ]
  },
  {
   "cell_type": "code",
   "execution_count": 105,
   "id": "30b78c16",
   "metadata": {
    "ExecuteTime": {
     "end_time": "2023-11-02T22:39:46.924559Z",
     "start_time": "2023-11-02T22:39:46.914567Z"
    }
   },
   "outputs": [
    {
     "name": "stdout",
     "output_type": "stream",
     "text": [
      "1985 823\n",
      "1986 1024\n",
      "1988 1154\n"
     ]
    }
   ],
   "source": [
    "year_mean = int(df['Год рождения'].mean())\n",
    "print(year_mean, len(df[df['Год рождения'] == year_mean]))\n",
    "year_median = int(df['Год рождения'].median())\n",
    "print(year_median, len(df[df['Год рождения'] == year_median]))\n",
    "year_mode = df['Год рождения'].mode().iloc[0]\n",
    "print(year_mode, len(df[df['Год рождения'] == year_mode]))"
   ]
  },
  {
   "cell_type": "code",
   "execution_count": 106,
   "id": "dc8ea19f",
   "metadata": {
    "ExecuteTime": {
     "end_time": "2023-11-03T10:02:02.260739Z",
     "start_time": "2023-11-03T10:02:02.255295Z"
    }
   },
   "outputs": [],
   "source": [
    "year_cnt = df['Год рождения'].value_counts()"
   ]
  },
  {
   "cell_type": "code",
   "execution_count": 107,
   "id": "a3a12d9b",
   "metadata": {
    "ExecuteTime": {
     "end_time": "2023-11-03T10:02:07.659004Z",
     "start_time": "2023-11-03T10:02:07.651688Z"
    }
   },
   "outputs": [
    {
     "data": {
      "text/plain": [
       "Год рождения\n",
       "1988    1154\n",
       "1986    1024\n",
       "1990    1022\n",
       "1987    1010\n",
       "1984     948\n",
       "        ... \n",
       "1944       1\n",
       "1930       1\n",
       "2014       1\n",
       "1932       1\n",
       "2010       1\n",
       "Name: count, Length: 75, dtype: int64"
      ]
     },
     "execution_count": 107,
     "metadata": {},
     "output_type": "execute_result"
    }
   ],
   "source": [
    "year_cnt"
   ]
  },
  {
   "cell_type": "code",
   "execution_count": 88,
   "id": "aaa60449",
   "metadata": {
    "ExecuteTime": {
     "end_time": "2023-11-02T22:31:57.029569Z",
     "start_time": "2023-11-02T22:31:57.022051Z"
    }
   },
   "outputs": [
    {
     "data": {
      "text/plain": [
       "0        1983\n",
       "1        1987\n",
       "2        1964\n",
       "3        1982\n",
       "4        1983\n",
       "         ... \n",
       "16500    1980\n",
       "16501    1981\n",
       "16502    1983\n",
       "16503    1978\n",
       "16504    1980\n",
       "Name: Год рождения, Length: 16505, dtype: int64"
      ]
     },
     "execution_count": 88,
     "metadata": {},
     "output_type": "execute_result"
    }
   ],
   "source": [
    "df['Год рождения']"
   ]
  },
  {
   "cell_type": "code",
   "execution_count": 89,
   "id": "ff0234aa",
   "metadata": {
    "ExecuteTime": {
     "end_time": "2023-11-02T22:31:58.250724Z",
     "start_time": "2023-11-02T22:31:58.244127Z"
    }
   },
   "outputs": [
    {
     "data": {
      "text/plain": [
       "75"
      ]
     },
     "execution_count": 89,
     "metadata": {},
     "output_type": "execute_result"
    }
   ],
   "source": [
    "df['Год рождения'].nunique()"
   ]
  },
  {
   "cell_type": "code",
   "execution_count": 114,
   "id": "84aea94e",
   "metadata": {
    "ExecuteTime": {
     "end_time": "2023-11-03T10:06:49.844199Z",
     "start_time": "2023-11-03T10:06:49.840215Z"
    }
   },
   "outputs": [],
   "source": [
    "year_unique = df['Год рождения'].unique()"
   ]
  },
  {
   "cell_type": "code",
   "execution_count": 124,
   "id": "27ac5138",
   "metadata": {
    "ExecuteTime": {
     "end_time": "2023-11-03T11:07:16.737718Z",
     "start_time": "2023-11-03T11:07:16.721432Z"
    }
   },
   "outputs": [
    {
     "data": {
      "text/plain": [
       "array([1983, 1987, 1964, 1982, 1992, 1988, 1991, 1989, 1990, 1985, 1986,\n",
       "       1976, 1994, 1978, 1979, 1984, 1995, 1993, 1996, 1960, 1974, 2011,\n",
       "       1977, 1968, 1981, 1969, 1951, 1963, 1952, 1972, 1965, 1966, 1970,\n",
       "       1975, 1961, 1973, 2003, 1971, 1950, 1980, 1967, 1945, 2000, 1956,\n",
       "       1962, 1997, 1953, 1955, 1954, 1998, 1946, 2005, 1957, 2013, 1999,\n",
       "       2004, 2006, 2007, 2008, 2009, 2016, 1958, 2014, 2001, 1941, 1944,\n",
       "       2012, 1948, 1959, 1930, 2002, 2015, 1932, 2017, 2010], dtype=int64)"
      ]
     },
     "execution_count": 124,
     "metadata": {},
     "output_type": "execute_result"
    }
   ],
   "source": [
    "year_unique"
   ]
  },
  {
   "cell_type": "code",
   "execution_count": 115,
   "id": "2646fa6b",
   "metadata": {
    "ExecuteTime": {
     "end_time": "2023-11-03T10:08:31.472513Z",
     "start_time": "2023-11-03T10:08:31.468299Z"
    }
   },
   "outputs": [],
   "source": [
    "cnt_year_unique = []\n",
    "for i in year_unique:\n",
    "    cnt_year_unique.append(year_cnt[i])"
   ]
  },
  {
   "cell_type": "code",
   "execution_count": 162,
   "id": "b4976711",
   "metadata": {
    "ExecuteTime": {
     "end_time": "2023-11-03T11:30:59.370778Z",
     "start_time": "2023-11-03T11:30:59.365045Z"
    }
   },
   "outputs": [],
   "source": [
    "potencial = pd.Series(cnt_year_unique, index=year_unique)"
   ]
  },
  {
   "cell_type": "code",
   "execution_count": 173,
   "id": "9107247b",
   "metadata": {
    "ExecuteTime": {
     "end_time": "2023-11-03T11:35:26.702770Z",
     "start_time": "2023-11-03T11:35:26.695258Z"
    }
   },
   "outputs": [
    {
     "data": {
      "text/plain": [
       "1988    1154\n",
       "1986    1024\n",
       "1990    1022\n",
       "1987    1010\n",
       "1984     948\n",
       "        ... \n",
       "1944       1\n",
       "1930       1\n",
       "2014       1\n",
       "1932       1\n",
       "2010       1\n",
       "Length: 75, dtype: int64"
      ]
     },
     "execution_count": 173,
     "metadata": {},
     "output_type": "execute_result"
    }
   ],
   "source": [
    "potencial"
   ]
  },
  {
   "cell_type": "code",
   "execution_count": 174,
   "id": "e9c42806",
   "metadata": {
    "ExecuteTime": {
     "end_time": "2023-11-03T11:35:27.950886Z",
     "start_time": "2023-11-03T11:35:27.946507Z"
    }
   },
   "outputs": [],
   "source": [
    "potencial = potencial.sort_values(ascending=False)"
   ]
  },
  {
   "cell_type": "code",
   "execution_count": 176,
   "id": "5fb62abc",
   "metadata": {
    "ExecuteTime": {
     "end_time": "2023-11-03T11:35:42.876782Z",
     "start_time": "2023-11-03T11:35:42.870558Z"
    }
   },
   "outputs": [
    {
     "data": {
      "text/plain": [
       "1988    1154\n",
       "1986    1024\n",
       "1990    1022\n",
       "1987    1010\n",
       "1984     948\n",
       "        ... \n",
       "1944       1\n",
       "1930       1\n",
       "2014       1\n",
       "1932       1\n",
       "2010       1\n",
       "Length: 75, dtype: int64"
      ]
     },
     "execution_count": 176,
     "metadata": {},
     "output_type": "execute_result"
    }
   ],
   "source": [
    "potencial"
   ]
  },
  {
   "cell_type": "code",
   "execution_count": 116,
   "id": "2d43d92a",
   "metadata": {
    "ExecuteTime": {
     "end_time": "2023-11-03T10:11:42.003001Z",
     "start_time": "2023-11-03T10:11:35.628199Z"
    }
   },
   "outputs": [],
   "source": [
    "import matplotlib as mpl\n",
    "import seaborn as sns\n",
    "import matplotlib.pyplot as plt"
   ]
  },
  {
   "cell_type": "code",
   "execution_count": 123,
   "id": "fde5fc47",
   "metadata": {
    "ExecuteTime": {
     "end_time": "2023-11-03T10:47:47.675108Z",
     "start_time": "2023-11-03T10:47:47.410613Z"
    },
    "scrolled": true
   },
   "outputs": [
    {
     "data": {
      "image/png": "[encoded data removed]",
      "text/plain": [
       "<Figure size 640x480 with 1 Axes>"
      ]
     },
     "metadata": {},
     "output_type": "display_data"
    }
   ],
   "source": [
    "fig, ax = plt.subplots()\n",
    "\n",
    "ax.bar(year_unique, cnt_year_unique)\n",
    "plt.show()"
   ]
  },
  {
   "cell_type": "markdown",
   "id": "2a5f64bc",
   "metadata": {},
   "source": [
    "### Избавляемся от возможных выбросов"
   ]
  },
  {
   "cell_type": "code",
   "execution_count": 205,
   "id": "7691674e",
   "metadata": {
    "ExecuteTime": {
     "end_time": "2023-11-03T11:45:48.432054Z",
     "start_time": "2023-11-03T11:45:48.408426Z"
    },
    "scrolled": true
   },
   "outputs": [
    {
     "name": "stdout",
     "output_type": "stream",
     "text": [
      "Выборка: 0.9526204180551348\n"
     ]
    }
   ],
   "source": [
    "selection = 0\n",
    "potencial_cnt = 0\n",
    "potencial_year = []\n",
    "potencial_year_cnt = []\n",
    "const_selection = 42\n",
    "all_potencial_new = []\n",
    "for i in range(len(potencial.index) - const_selection):\n",
    "    potencial_cnt += potencial[potencial.index[i]]\n",
    "    potencial_year.append(potencial.index[i])\n",
    "    potencial_year_cnt.append(potencial[potencial.index[i]])\n",
    "    for j in range(potencial[potencial.index[i]]):\n",
    "        all_potencial_new.append(potencial.index[i])\n",
    "\n",
    "print(f'''Выборка: {potencial_cnt / 16505}''')"
   ]
  },
  {
   "cell_type": "code",
   "execution_count": 206,
   "id": "c4726831",
   "metadata": {
    "ExecuteTime": {
     "end_time": "2023-11-03T11:45:49.290374Z",
     "start_time": "2023-11-03T11:45:49.256401Z"
    }
   },
   "outputs": [
    {
     "data": {
      "text/plain": [
       "[1988,\n",
       " 1988,\n",
       " 1988,\n",
       " 1988,\n",
       " 1988,\n",
       " 1988,\n",
       " 1988,\n",
       " 1988,\n",
       " 1988,\n",
       " 1988,\n",
       " 1988,\n",
       " 1988,\n",
       " 1988,\n",
       " 1988,\n",
       " 1988,\n",
       " 1988,\n",
       " 1988,\n",
       " 1988,\n",
       " 1988,\n",
       " 1988,\n",
       " 1988,\n",
       " 1988,\n",
       " 1988,\n",
       " 1988,\n",
       " 1988,\n",
       " 1988,\n",
       " 1988,\n",
       " 1988,\n",
       " 1988,\n",
       " 1988,\n",
       " 1988,\n",
       " 1988,\n",
       " 1988,\n",
       " 1988,\n",
       " 1988,\n",
       " 1988,\n",
       " 1988,\n",
       " 1988,\n",
       " 1988,\n",
       " 1988,\n",
       " 1988,\n",
       " 1988,\n",
       " 1988,\n",
       " 1988,\n",
       " 1988,\n",
       " 1988,\n",
       " 1988,\n",
       " 1988,\n",
       " 1988,\n",
       " 1988,\n",
       " 1988,\n",
       " 1988,\n",
       " 1988,\n",
       " 1988,\n",
       " 1988,\n",
       " 1988,\n",
       " 1988,\n",
       " 1988,\n",
       " 1988,\n",
       " 1988,\n",
       " 1988,\n",
       " 1988,\n",
       " 1988,\n",
       " 1988,\n",
       " 1988,\n",
       " 1988,\n",
       " 1988,\n",
       " 1988,\n",
       " 1988,\n",
       " 1988,\n",
       " 1988,\n",
       " 1988,\n",
       " 1988,\n",
       " 1988,\n",
       " 1988,\n",
       " 1988,\n",
       " 1988,\n",
       " 1988,\n",
       " 1988,\n",
       " 1988,\n",
       " 1988,\n",
       " 1988,\n",
       " 1988,\n",
       " 1988,\n",
       " 1988,\n",
       " 1988,\n",
       " 1988,\n",
       " 1988,\n",
       " 1988,\n",
       " 1988,\n",
       " 1988,\n",
       " 1988,\n",
       " 1988,\n",
       " 1988,\n",
       " 1988,\n",
       " 1988,\n",
       " 1988,\n",
       " 1988,\n",
       " 1988,\n",
       " 1988,\n",
       " 1988,\n",
       " 1988,\n",
       " 1988,\n",
       " 1988,\n",
       " 1988,\n",
       " 1988,\n",
       " 1988,\n",
       " 1988,\n",
       " 1988,\n",
       " 1988,\n",
       " 1988,\n",
       " 1988,\n",
       " 1988,\n",
       " 1988,\n",
       " 1988,\n",
       " 1988,\n",
       " 1988,\n",
       " 1988,\n",
       " 1988,\n",
       " 1988,\n",
       " 1988,\n",
       " 1988,\n",
       " 1988,\n",
       " 1988,\n",
       " 1988,\n",
       " 1988,\n",
       " 1988,\n",
       " 1988,\n",
       " 1988,\n",
       " 1988,\n",
       " 1988,\n",
       " 1988,\n",
       " 1988,\n",
       " 1988,\n",
       " 1988,\n",
       " 1988,\n",
       " 1988,\n",
       " 1988,\n",
       " 1988,\n",
       " 1988,\n",
       " 1988,\n",
       " 1988,\n",
       " 1988,\n",
       " 1988,\n",
       " 1988,\n",
       " 1988,\n",
       " 1988,\n",
       " 1988,\n",
       " 1988,\n",
       " 1988,\n",
       " 1988,\n",
       " 1988,\n",
       " 1988,\n",
       " 1988,\n",
       " 1988,\n",
       " 1988,\n",
       " 1988,\n",
       " 1988,\n",
       " 1988,\n",
       " 1988,\n",
       " 1988,\n",
       " 1988,\n",
       " 1988,\n",
       " 1988,\n",
       " 1988,\n",
       " 1988,\n",
       " 1988,\n",
       " 1988,\n",
       " 1988,\n",
       " 1988,\n",
       " 1988,\n",
       " 1988,\n",
       " 1988,\n",
       " 1988,\n",
       " 1988,\n",
       " 1988,\n",
       " 1988,\n",
       " 1988,\n",
       " 1988,\n",
       " 1988,\n",
       " 1988,\n",
       " 1988,\n",
       " 1988,\n",
       " 1988,\n",
       " 1988,\n",
       " 1988,\n",
       " 1988,\n",
       " 1988,\n",
       " 1988,\n",
       " 1988,\n",
       " 1988,\n",
       " 1988,\n",
       " 1988,\n",
       " 1988,\n",
       " 1988,\n",
       " 1988,\n",
       " 1988,\n",
       " 1988,\n",
       " 1988,\n",
       " 1988,\n",
       " 1988,\n",
       " 1988,\n",
       " 1988,\n",
       " 1988,\n",
       " 1988,\n",
       " 1988,\n",
       " 1988,\n",
       " 1988,\n",
       " 1988,\n",
       " 1988,\n",
       " 1988,\n",
       " 1988,\n",
       " 1988,\n",
       " 1988,\n",
       " 1988,\n",
       " 1988,\n",
       " 1988,\n",
       " 1988,\n",
       " 1988,\n",
       " 1988,\n",
       " 1988,\n",
       " 1988,\n",
       " 1988,\n",
       " 1988,\n",
       " 1988,\n",
       " 1988,\n",
       " 1988,\n",
       " 1988,\n",
       " 1988,\n",
       " 1988,\n",
       " 1988,\n",
       " 1988,\n",
       " 1988,\n",
       " 1988,\n",
       " 1988,\n",
       " 1988,\n",
       " 1988,\n",
       " 1988,\n",
       " 1988,\n",
       " 1988,\n",
       " 1988,\n",
       " 1988,\n",
       " 1988,\n",
       " 1988,\n",
       " 1988,\n",
       " 1988,\n",
       " 1988,\n",
       " 1988,\n",
       " 1988,\n",
       " 1988,\n",
       " 1988,\n",
       " 1988,\n",
       " 1988,\n",
       " 1988,\n",
       " 1988,\n",
       " 1988,\n",
       " 1988,\n",
       " 1988,\n",
       " 1988,\n",
       " 1988,\n",
       " 1988,\n",
       " 1988,\n",
       " 1988,\n",
       " 1988,\n",
       " 1988,\n",
       " 1988,\n",
       " 1988,\n",
       " 1988,\n",
       " 1988,\n",
       " 1988,\n",
       " 1988,\n",
       " 1988,\n",
       " 1988,\n",
       " 1988,\n",
       " 1988,\n",
       " 1988,\n",
       " 1988,\n",
       " 1988,\n",
       " 1988,\n",
       " 1988,\n",
       " 1988,\n",
       " 1988,\n",
       " 1988,\n",
       " 1988,\n",
       " 1988,\n",
       " 1988,\n",
       " 1988,\n",
       " 1988,\n",
       " 1988,\n",
       " 1988,\n",
       " 1988,\n",
       " 1988,\n",
       " 1988,\n",
       " 1988,\n",
       " 1988,\n",
       " 1988,\n",
       " 1988,\n",
       " 1988,\n",
       " 1988,\n",
       " 1988,\n",
       " 1988,\n",
       " 1988,\n",
       " 1988,\n",
       " 1988,\n",
       " 1988,\n",
       " 1988,\n",
       " 1988,\n",
       " 1988,\n",
       " 1988,\n",
       " 1988,\n",
       " 1988,\n",
       " 1988,\n",
       " 1988,\n",
       " 1988,\n",
       " 1988,\n",
       " 1988,\n",
       " 1988,\n",
       " 1988,\n",
       " 1988,\n",
       " 1988,\n",
       " 1988,\n",
       " 1988,\n",
       " 1988,\n",
       " 1988,\n",
       " 1988,\n",
       " 1988,\n",
       " 1988,\n",
       " 1988,\n",
       " 1988,\n",
       " 1988,\n",
       " 1988,\n",
       " 1988,\n",
       " 1988,\n",
       " 1988,\n",
       " 1988,\n",
       " 1988,\n",
       " 1988,\n",
       " 1988,\n",
       " 1988,\n",
       " 1988,\n",
       " 1988,\n",
       " 1988,\n",
       " 1988,\n",
       " 1988,\n",
       " 1988,\n",
       " 1988,\n",
       " 1988,\n",
       " 1988,\n",
       " 1988,\n",
       " 1988,\n",
       " 1988,\n",
       " 1988,\n",
       " 1988,\n",
       " 1988,\n",
       " 1988,\n",
       " 1988,\n",
       " 1988,\n",
       " 1988,\n",
       " 1988,\n",
       " 1988,\n",
       " 1988,\n",
       " 1988,\n",
       " 1988,\n",
       " 1988,\n",
       " 1988,\n",
       " 1988,\n",
       " 1988,\n",
       " 1988,\n",
       " 1988,\n",
       " 1988,\n",
       " 1988,\n",
       " 1988,\n",
       " 1988,\n",
       " 1988,\n",
       " 1988,\n",
       " 1988,\n",
       " 1988,\n",
       " 1988,\n",
       " 1988,\n",
       " 1988,\n",
       " 1988,\n",
       " 1988,\n",
       " 1988,\n",
       " 1988,\n",
       " 1988,\n",
       " 1988,\n",
       " 1988,\n",
       " 1988,\n",
       " 1988,\n",
       " 1988,\n",
       " 1988,\n",
       " 1988,\n",
       " 1988,\n",
       " 1988,\n",
       " 1988,\n",
       " 1988,\n",
       " 1988,\n",
       " 1988,\n",
       " 1988,\n",
       " 1988,\n",
       " 1988,\n",
       " 1988,\n",
       " 1988,\n",
       " 1988,\n",
       " 1988,\n",
       " 1988,\n",
       " 1988,\n",
       " 1988,\n",
       " 1988,\n",
       " 1988,\n",
       " 1988,\n",
       " 1988,\n",
       " 1988,\n",
       " 1988,\n",
       " 1988,\n",
       " 1988,\n",
       " 1988,\n",
       " 1988,\n",
       " 1988,\n",
       " 1988,\n",
       " 1988,\n",
       " 1988,\n",
       " 1988,\n",
       " 1988,\n",
       " 1988,\n",
       " 1988,\n",
       " 1988,\n",
       " 1988,\n",
       " 1988,\n",
       " 1988,\n",
       " 1988,\n",
       " 1988,\n",
       " 1988,\n",
       " 1988,\n",
       " 1988,\n",
       " 1988,\n",
       " 1988,\n",
       " 1988,\n",
       " 1988,\n",
       " 1988,\n",
       " 1988,\n",
       " 1988,\n",
       " 1988,\n",
       " 1988,\n",
       " 1988,\n",
       " 1988,\n",
       " 1988,\n",
       " 1988,\n",
       " 1988,\n",
       " 1988,\n",
       " 1988,\n",
       " 1988,\n",
       " 1988,\n",
       " 1988,\n",
       " 1988,\n",
       " 1988,\n",
       " 1988,\n",
       " 1988,\n",
       " 1988,\n",
       " 1988,\n",
       " 1988,\n",
       " 1988,\n",
       " 1988,\n",
       " 1988,\n",
       " 1988,\n",
       " 1988,\n",
       " 1988,\n",
       " 1988,\n",
       " 1988,\n",
       " 1988,\n",
       " 1988,\n",
       " 1988,\n",
       " 1988,\n",
       " 1988,\n",
       " 1988,\n",
       " 1988,\n",
       " 1988,\n",
       " 1988,\n",
       " 1988,\n",
       " 1988,\n",
       " 1988,\n",
       " 1988,\n",
       " 1988,\n",
       " 1988,\n",
       " 1988,\n",
       " 1988,\n",
       " 1988,\n",
       " 1988,\n",
       " 1988,\n",
       " 1988,\n",
       " 1988,\n",
       " 1988,\n",
       " 1988,\n",
       " 1988,\n",
       " 1988,\n",
       " 1988,\n",
       " 1988,\n",
       " 1988,\n",
       " 1988,\n",
       " 1988,\n",
       " 1988,\n",
       " 1988,\n",
       " 1988,\n",
       " 1988,\n",
       " 1988,\n",
       " 1988,\n",
       " 1988,\n",
       " 1988,\n",
       " 1988,\n",
       " 1988,\n",
       " 1988,\n",
       " 1988,\n",
       " 1988,\n",
       " 1988,\n",
       " 1988,\n",
       " 1988,\n",
       " 1988,\n",
       " 1988,\n",
       " 1988,\n",
       " 1988,\n",
       " 1988,\n",
       " 1988,\n",
       " 1988,\n",
       " 1988,\n",
       " 1988,\n",
       " 1988,\n",
       " 1988,\n",
       " 1988,\n",
       " 1988,\n",
       " 1988,\n",
       " 1988,\n",
       " 1988,\n",
       " 1988,\n",
       " 1988,\n",
       " 1988,\n",
       " 1988,\n",
       " 1988,\n",
       " 1988,\n",
       " 1988,\n",
       " 1988,\n",
       " 1988,\n",
       " 1988,\n",
       " 1988,\n",
       " 1988,\n",
       " 1988,\n",
       " 1988,\n",
       " 1988,\n",
       " 1988,\n",
       " 1988,\n",
       " 1988,\n",
       " 1988,\n",
       " 1988,\n",
       " 1988,\n",
       " 1988,\n",
       " 1988,\n",
       " 1988,\n",
       " 1988,\n",
       " 1988,\n",
       " 1988,\n",
       " 1988,\n",
       " 1988,\n",
       " 1988,\n",
       " 1988,\n",
       " 1988,\n",
       " 1988,\n",
       " 1988,\n",
       " 1988,\n",
       " 1988,\n",
       " 1988,\n",
       " 1988,\n",
       " 1988,\n",
       " 1988,\n",
       " 1988,\n",
       " 1988,\n",
       " 1988,\n",
       " 1988,\n",
       " 1988,\n",
       " 1988,\n",
       " 1988,\n",
       " 1988,\n",
       " 1988,\n",
       " 1988,\n",
       " 1988,\n",
       " 1988,\n",
       " 1988,\n",
       " 1988,\n",
       " 1988,\n",
       " 1988,\n",
       " 1988,\n",
       " 1988,\n",
       " 1988,\n",
       " 1988,\n",
       " 1988,\n",
       " 1988,\n",
       " 1988,\n",
       " 1988,\n",
       " 1988,\n",
       " 1988,\n",
       " 1988,\n",
       " 1988,\n",
       " 1988,\n",
       " 1988,\n",
       " 1988,\n",
       " 1988,\n",
       " 1988,\n",
       " 1988,\n",
       " 1988,\n",
       " 1988,\n",
       " 1988,\n",
       " 1988,\n",
       " 1988,\n",
       " 1988,\n",
       " 1988,\n",
       " 1988,\n",
       " 1988,\n",
       " 1988,\n",
       " 1988,\n",
       " 1988,\n",
       " 1988,\n",
       " 1988,\n",
       " 1988,\n",
       " 1988,\n",
       " 1988,\n",
       " 1988,\n",
       " 1988,\n",
       " 1988,\n",
       " 1988,\n",
       " 1988,\n",
       " 1988,\n",
       " 1988,\n",
       " 1988,\n",
       " 1988,\n",
       " 1988,\n",
       " 1988,\n",
       " 1988,\n",
       " 1988,\n",
       " 1988,\n",
       " 1988,\n",
       " 1988,\n",
       " 1988,\n",
       " 1988,\n",
       " 1988,\n",
       " 1988,\n",
       " 1988,\n",
       " 1988,\n",
       " 1988,\n",
       " 1988,\n",
       " 1988,\n",
       " 1988,\n",
       " 1988,\n",
       " 1988,\n",
       " 1988,\n",
       " 1988,\n",
       " 1988,\n",
       " 1988,\n",
       " 1988,\n",
       " 1988,\n",
       " 1988,\n",
       " 1988,\n",
       " 1988,\n",
       " 1988,\n",
       " 1988,\n",
       " 1988,\n",
       " 1988,\n",
       " 1988,\n",
       " 1988,\n",
       " 1988,\n",
       " 1988,\n",
       " 1988,\n",
       " 1988,\n",
       " 1988,\n",
       " 1988,\n",
       " 1988,\n",
       " 1988,\n",
       " 1988,\n",
       " 1988,\n",
       " 1988,\n",
       " 1988,\n",
       " 1988,\n",
       " 1988,\n",
       " 1988,\n",
       " 1988,\n",
       " 1988,\n",
       " 1988,\n",
       " 1988,\n",
       " 1988,\n",
       " 1988,\n",
       " 1988,\n",
       " 1988,\n",
       " 1988,\n",
       " 1988,\n",
       " 1988,\n",
       " 1988,\n",
       " 1988,\n",
       " 1988,\n",
       " 1988,\n",
       " 1988,\n",
       " 1988,\n",
       " 1988,\n",
       " 1988,\n",
       " 1988,\n",
       " 1988,\n",
       " 1988,\n",
       " 1988,\n",
       " 1988,\n",
       " 1988,\n",
       " 1988,\n",
       " 1988,\n",
       " 1988,\n",
       " 1988,\n",
       " 1988,\n",
       " 1988,\n",
       " 1988,\n",
       " 1988,\n",
       " 1988,\n",
       " 1988,\n",
       " 1988,\n",
       " 1988,\n",
       " 1988,\n",
       " 1988,\n",
       " 1988,\n",
       " 1988,\n",
       " 1988,\n",
       " 1988,\n",
       " 1988,\n",
       " 1988,\n",
       " 1988,\n",
       " 1988,\n",
       " 1988,\n",
       " 1988,\n",
       " 1988,\n",
       " 1988,\n",
       " 1988,\n",
       " 1988,\n",
       " 1988,\n",
       " 1988,\n",
       " 1988,\n",
       " 1988,\n",
       " 1988,\n",
       " 1988,\n",
       " 1988,\n",
       " 1988,\n",
       " 1988,\n",
       " 1988,\n",
       " 1988,\n",
       " 1988,\n",
       " 1988,\n",
       " 1988,\n",
       " 1988,\n",
       " 1988,\n",
       " 1988,\n",
       " 1988,\n",
       " 1988,\n",
       " 1988,\n",
       " 1988,\n",
       " 1988,\n",
       " 1988,\n",
       " 1988,\n",
       " 1988,\n",
       " 1988,\n",
       " 1988,\n",
       " 1988,\n",
       " 1988,\n",
       " 1988,\n",
       " 1988,\n",
       " 1988,\n",
       " 1988,\n",
       " 1988,\n",
       " 1988,\n",
       " 1988,\n",
       " 1988,\n",
       " 1988,\n",
       " 1988,\n",
       " 1988,\n",
       " 1988,\n",
       " 1988,\n",
       " 1988,\n",
       " 1988,\n",
       " 1988,\n",
       " 1988,\n",
       " 1988,\n",
       " 1988,\n",
       " 1988,\n",
       " 1988,\n",
       " 1988,\n",
       " 1988,\n",
       " 1988,\n",
       " 1988,\n",
       " 1988,\n",
       " 1988,\n",
       " 1988,\n",
       " 1988,\n",
       " 1988,\n",
       " 1988,\n",
       " 1988,\n",
       " 1988,\n",
       " 1988,\n",
       " 1988,\n",
       " 1988,\n",
       " 1988,\n",
       " 1988,\n",
       " 1988,\n",
       " 1988,\n",
       " 1988,\n",
       " 1988,\n",
       " 1988,\n",
       " 1988,\n",
       " 1988,\n",
       " 1988,\n",
       " 1988,\n",
       " 1988,\n",
       " 1988,\n",
       " 1988,\n",
       " 1988,\n",
       " 1988,\n",
       " 1988,\n",
       " 1988,\n",
       " 1988,\n",
       " 1988,\n",
       " 1988,\n",
       " 1988,\n",
       " 1988,\n",
       " 1988,\n",
       " 1988,\n",
       " 1988,\n",
       " 1988,\n",
       " 1988,\n",
       " 1988,\n",
       " 1988,\n",
       " 1988,\n",
       " 1988,\n",
       " 1988,\n",
       " 1988,\n",
       " 1988,\n",
       " 1988,\n",
       " 1988,\n",
       " 1988,\n",
       " 1988,\n",
       " 1988,\n",
       " 1988,\n",
       " 1988,\n",
       " 1988,\n",
       " 1988,\n",
       " 1988,\n",
       " 1988,\n",
       " 1988,\n",
       " 1988,\n",
       " 1988,\n",
       " 1988,\n",
       " 1988,\n",
       " 1988,\n",
       " 1988,\n",
       " 1988,\n",
       " 1988,\n",
       " 1988,\n",
       " 1988,\n",
       " 1988,\n",
       " 1988,\n",
       " 1988,\n",
       " 1988,\n",
       " 1988,\n",
       " 1988,\n",
       " 1988,\n",
       " 1988,\n",
       " 1988,\n",
       " 1988,\n",
       " 1988,\n",
       " 1988,\n",
       " 1988,\n",
       " 1988,\n",
       " 1988,\n",
       " 1988,\n",
       " 1988,\n",
       " 1988,\n",
       " 1988,\n",
       " 1988,\n",
       " 1988,\n",
       " 1988,\n",
       " 1988,\n",
       " 1988,\n",
       " 1988,\n",
       " 1988,\n",
       " 1988,\n",
       " 1988,\n",
       " 1988,\n",
       " 1988,\n",
       " 1988,\n",
       " 1988,\n",
       " 1988,\n",
       " 1988,\n",
       " 1988,\n",
       " 1988,\n",
       " 1988,\n",
       " 1988,\n",
       " 1988,\n",
       " 1988,\n",
       " 1988,\n",
       " 1988,\n",
       " 1988,\n",
       " 1988,\n",
       " 1988,\n",
       " 1988,\n",
       " 1988,\n",
       " 1988,\n",
       " 1988,\n",
       " 1988,\n",
       " 1988,\n",
       " 1988,\n",
       " 1988,\n",
       " 1988,\n",
       " 1988,\n",
       " 1988,\n",
       " 1988,\n",
       " 1988,\n",
       " 1988,\n",
       " 1988,\n",
       " 1988,\n",
       " 1988,\n",
       " 1988,\n",
       " 1988,\n",
       " 1988,\n",
       " 1988,\n",
       " 1988,\n",
       " 1988,\n",
       " 1988,\n",
       " 1988,\n",
       " 1988,\n",
       " 1988,\n",
       " 1988,\n",
       " 1988,\n",
       " 1988,\n",
       " 1988,\n",
       " 1988,\n",
       " 1988,\n",
       " 1988,\n",
       " 1988,\n",
       " 1988,\n",
       " 1988,\n",
       " 1988,\n",
       " 1988,\n",
       " 1988,\n",
       " 1988,\n",
       " 1988,\n",
       " 1988,\n",
       " 1988,\n",
       " 1988,\n",
       " 1988,\n",
       " 1988,\n",
       " 1988,\n",
       " 1988,\n",
       " 1988,\n",
       " 1988,\n",
       " 1988,\n",
       " 1988,\n",
       " 1988,\n",
       " 1988,\n",
       " 1988,\n",
       " 1988,\n",
       " 1988,\n",
       " 1988,\n",
       " 1988,\n",
       " 1988,\n",
       " 1988,\n",
       " 1988,\n",
       " 1988,\n",
       " 1988,\n",
       " 1988,\n",
       " 1988,\n",
       " 1988,\n",
       " 1988,\n",
       " 1988,\n",
       " 1988,\n",
       " 1988,\n",
       " 1988,\n",
       " 1988,\n",
       " 1988,\n",
       " 1988,\n",
       " 1988,\n",
       " 1988,\n",
       " 1988,\n",
       " 1988,\n",
       " 1988,\n",
       " 1988,\n",
       " 1988,\n",
       " 1988,\n",
       " 1988,\n",
       " 1988,\n",
       " 1988,\n",
       " 1988,\n",
       " 1988,\n",
       " 1988,\n",
       " 1988,\n",
       " 1988,\n",
       " 1988,\n",
       " 1988,\n",
       " 1988,\n",
       " 1988,\n",
       " 1988,\n",
       " 1988,\n",
       " 1988,\n",
       " ...]"
      ]
     },
     "execution_count": 206,
     "metadata": {},
     "output_type": "execute_result"
    }
   ],
   "source": [
    "all_potencial_new"
   ]
  },
  {
   "cell_type": "code",
   "execution_count": 207,
   "id": "ac590add",
   "metadata": {
    "ExecuteTime": {
     "end_time": "2023-11-03T11:45:50.006171Z",
     "start_time": "2023-11-03T11:45:49.999175Z"
    }
   },
   "outputs": [],
   "source": [
    "import statistics"
   ]
  },
  {
   "cell_type": "code",
   "execution_count": 208,
   "id": "c5d1f6c3",
   "metadata": {
    "ExecuteTime": {
     "end_time": "2023-11-03T11:45:51.292257Z",
     "start_time": "2023-11-03T11:45:51.257826Z"
    }
   },
   "outputs": [
    {
     "data": {
      "text/plain": [
       "1985"
      ]
     },
     "execution_count": 208,
     "metadata": {},
     "output_type": "execute_result"
    }
   ],
   "source": [
    "statistics.mean(all_potencial_new)"
   ]
  },
  {
   "cell_type": "code",
   "execution_count": 209,
   "id": "bc5a4056",
   "metadata": {
    "ExecuteTime": {
     "end_time": "2023-11-03T11:45:51.879607Z",
     "start_time": "2023-11-03T11:45:51.873096Z"
    }
   },
   "outputs": [
    {
     "data": {
      "text/plain": [
       "1986"
      ]
     },
     "execution_count": 209,
     "metadata": {},
     "output_type": "execute_result"
    }
   ],
   "source": [
    "statistics.median(all_potencial_new)"
   ]
  },
  {
   "cell_type": "code",
   "execution_count": 210,
   "id": "443f3705",
   "metadata": {
    "ExecuteTime": {
     "end_time": "2023-11-03T11:45:52.962789Z",
     "start_time": "2023-11-03T11:45:52.955375Z"
    }
   },
   "outputs": [
    {
     "data": {
      "text/plain": [
       "1988"
      ]
     },
     "execution_count": 210,
     "metadata": {},
     "output_type": "execute_result"
    }
   ],
   "source": [
    "statistics.mode(all_potencial_new)"
   ]
  },
  {
   "cell_type": "markdown",
   "id": "ab9ff237",
   "metadata": {},
   "source": [
    "Взяв 95% данной выборки(исключение выбросов) получаем ровно такие же значения среднего, моды и медаианы. В виду того, что данные нормально распределены(среднее, медаиана и мода примерно идентичны) и отсутсвуют выбросы, а также график симметричен, можно использовать среднее значение. "
   ]
  },
  {
   "cell_type": "markdown",
   "id": "3cea6b46",
   "metadata": {
    "ExecuteTime": {
     "end_time": "2023-11-03T11:52:40.125117Z",
     "start_time": "2023-11-03T11:52:40.117308Z"
    }
   },
   "source": [
    "### Возраст типичного учатника = 1985"
   ]
  },
  {
   "cell_type": "code",
   "execution_count": 121,
   "id": "4585637a",
   "metadata": {
    "ExecuteTime": {
     "end_time": "2023-11-03T10:28:32.385648Z",
     "start_time": "2023-11-03T10:28:32.379965Z"
    }
   },
   "outputs": [],
   "source": [
    "sex_cnt = df['Пол'].value_counts()"
   ]
  },
  {
   "cell_type": "code",
   "execution_count": 122,
   "id": "848c07b1",
   "metadata": {
    "ExecuteTime": {
     "end_time": "2023-11-03T10:28:33.119563Z",
     "start_time": "2023-11-03T10:28:33.111948Z"
    }
   },
   "outputs": [
    {
     "data": {
      "text/plain": [
       "Пол\n",
       "М    12121\n",
       "Ж     4384\n",
       "Name: count, dtype: int64"
      ]
     },
     "execution_count": 122,
     "metadata": {},
     "output_type": "execute_result"
    }
   ],
   "source": [
    "sex_cnt"
   ]
  },
  {
   "cell_type": "markdown",
   "id": "695ceb53",
   "metadata": {},
   "source": [
    "В данном случае так как столбец пол принимает 2 противоположных значения, то можно использовать только моду. 12121 / 16505 ≈ 0.73 => 73% участников мужчины."
   ]
  },
  {
   "cell_type": "markdown",
   "id": "602eb2c0",
   "metadata": {},
   "source": [
    "### Пол типичного учатника = Мужской"
   ]
  },
  {
   "cell_type": "code",
   "execution_count": 212,
   "id": "17cc17de",
   "metadata": {
    "ExecuteTime": {
     "end_time": "2023-11-03T11:55:07.901564Z",
     "start_time": "2023-11-03T11:55:07.885308Z"
    }
   },
   "outputs": [
    {
     "data": {
      "text/plain": [
       "0                 Москва\n",
       "1                 Москва\n",
       "2            Новосибирск\n",
       "3                 Москва\n",
       "4        Cанкт-Петербург\n",
       "              ...       \n",
       "16500             Москва\n",
       "16501             Москва\n",
       "16502             Москва\n",
       "16503           Смоленск\n",
       "16504           Смоленск\n",
       "Name: Город проживания, Length: 16505, dtype: object"
      ]
     },
     "execution_count": 212,
     "metadata": {},
     "output_type": "execute_result"
    }
   ],
   "source": [
    "df['Город проживания']"
   ]
  },
  {
   "cell_type": "code",
   "execution_count": 213,
   "id": "0e6aa644",
   "metadata": {
    "ExecuteTime": {
     "end_time": "2023-11-03T11:55:43.560285Z",
     "start_time": "2023-11-03T11:55:43.544369Z"
    }
   },
   "outputs": [
    {
     "data": {
      "text/plain": [
       "Город проживания\n",
       "Москва                 9299\n",
       "Екатеринбург           1435\n",
       "Cанкт-Петербург        1433\n",
       "Зеленоград              169\n",
       "Долгопрудный            159\n",
       "                       ... \n",
       "Балашов                   1\n",
       "МОСВКА                    1\n",
       "Переслаль-Залесский       1\n",
       "Череповец                 1\n",
       "МО, Лыткарино             1\n",
       "Name: count, Length: 395, dtype: int64"
      ]
     },
     "execution_count": 213,
     "metadata": {},
     "output_type": "execute_result"
    }
   ],
   "source": [
    "df['Город проживания'].value_counts()"
   ]
  },
  {
   "cell_type": "code",
   "execution_count": 214,
   "id": "c84d6a6a",
   "metadata": {
    "ExecuteTime": {
     "end_time": "2023-11-03T11:57:50.801710Z",
     "start_time": "2023-11-03T11:57:50.787466Z"
    }
   },
   "outputs": [
    {
     "data": {
      "text/plain": [
       "395"
      ]
     },
     "execution_count": 214,
     "metadata": {},
     "output_type": "execute_result"
    }
   ],
   "source": [
    "df['Город проживания'].nunique()"
   ]
  },
  {
   "cell_type": "code",
   "execution_count": 215,
   "id": "10b28327",
   "metadata": {
    "ExecuteTime": {
     "end_time": "2023-11-03T11:58:07.406287Z",
     "start_time": "2023-11-03T11:58:07.394745Z"
    }
   },
   "outputs": [
    {
     "data": {
      "text/plain": [
       "array(['Москва', 'Новосибирск', 'Cанкт-Петербург', 'Долгопрудный',\n",
       "       'Екатеринбург', 'Санкт-Петербург', 'Электросталь',\n",
       "       'Петропавловск-Камчатский', 'Шевлягино', 'Тольятти', 'Вильнюс',\n",
       "       'москва', 'Moscow', 'Раменское', 'Коломна', 'г. Тверь', 'Таллин',\n",
       "       'Троицк', 'Клявлино', 'Тверь', 'Лабытнанги', 'Обнинск',\n",
       "       'Лыткарино', 'Черноголовка', 'Сталинград', 'Рязань', 'Пушкино',\n",
       "       'Подольск', 'Зюзино', 'село Шеметово (Сергиев Посад)',\n",
       "       'г.Владимир', 'Железнодорожный', 'Ульяновская область', 'Люберцы',\n",
       "       'Пущино', 'Озеры', 'Молоково-Нальчик', 'Стерлитамак', 'Зеленоград',\n",
       "       'Химки', 'Салехард', 'Волгоград/Москва', 'Балашиха', 'Электроугли',\n",
       "       'П-Посад', 'Жел-дор', 'Калуга', 'Фрязино', 'Дубна', 'Липа',\n",
       "       'Измайлово', 'Ясногорск', 'Город', 'Анапа', 'Дзержинск', 'Королёв',\n",
       "       'город-герой Москва', 'мск', 'Красное', 'балашиха', 'Красногорск',\n",
       "       'Сходня', 'Майкоп', 'Омск', 'село Сафарино', 'Звенигород',\n",
       "       'Мытищи', 'Цахкадзор', 'Переделкино', 'Дмитров, М.О.',\n",
       "       'Наро-Фоминск', 'Лобня', 'пос. Ильинский', 'Реутов', 'озёры',\n",
       "       'Ногинск', 'Вологда', 'МОСКВА', 'Жуковский', 'Волгоград/Протвино',\n",
       "       'Мск', 'Луховицы', 'Смоленск', 'Самарта', 'Королев', 'Московия',\n",
       "       'Петрозаводск', 'Мурманск', 'Железнодорожный МО', 'Краснознаменск',\n",
       "       'Вологодская обл. г. Череповец', 'Волоколамск', 'Тула', 'Белгород',\n",
       "       'Нововоронеж', 'Дмитров', 'п. Зеленоградский (Пушкино)',\n",
       "       'Андреевка', 'Видное', 'Нахабино', 'Уфа-Москва', 'Клин',\n",
       "       'Ярославль', 'Валдай', 'Саратов', 'г. Москва', 'Ивантеевка',\n",
       "       'Гагарин', 'Одинцово', 'Гавана', 'Москва-Подольск', 'Шебекино',\n",
       "       'Киев', 'Пересвет', 'Торжок', 'г. Люберцы', 'Дублин',\n",
       "       'Ленинград-Обнинск-Москва', 'Воронеж', 'москва ', 'Домодедово',\n",
       "       'Кратово', 'Протвино/Обнинск', 'Сергиев Посад', 'Краснодар',\n",
       "       'зеленоград', 'Moskva', 'Псков', 'Берлин', 'Митино',\n",
       "       'Кишинёв -> Москва -> Тянь-Шань', 'Щёлково', 'Ржев', 'Москва ',\n",
       "       'Климовск', 'Элиста', 'Снежинск', 'Кубинка', 'Москва / Белгород',\n",
       "       'Менделеево', 'Серпухов', 'Котовск', 'Липецк', 'Наро-фоминск',\n",
       "       'Солнечногорск', 'Саров', 'Ливны', 'Старая Купавна',\n",
       "       'Московская область', 'Град Зеленый', 'Истра', 'Москва/Петербург',\n",
       "       'Дубна МО', 'Раменское ', 'Нижний Новгород',\n",
       "       'Королев Московская обл', 'Волгоград', '-', 'Димитровград', 'Чита',\n",
       "       'Жуковский Московской обл.', 'Зарайск', 'Уфа',\n",
       "       'Москва-Владивосток', 'Невьянск', 'Петербург', 'Washington, D.C.',\n",
       "       'Москва, Зеленоград', 'Протвино', 'Чехов', 'Кулебаки',\n",
       "       'Москва и Солнечногорск', 'Ulyanovsk', 'Ульяновск', 'Шушмор',\n",
       "       'Манаус', 'Бийск/Москва', 'Кузяево, МО', 'г. Зеленоград',\n",
       "       'Уфа/Москва', 'Королев-Кулебаки', 'Вестра', 'Баку', 'Ахтубинск',\n",
       "       'Александров ', 'Пыть-Ях', 'Город-герой Москва', 'троицк',\n",
       "       'Пущино, Московская область', 'Купавна', 'Кривой РогГород',\n",
       "       'Водники (Долгопрудный)', 'Ефремов', 'Апрелевка', 'Северодвинск',\n",
       "       'Tula', 'Шатура ', 'Москвв', 'Шатура', 'Трудовая, МО', 'moscow',\n",
       "       'Первомайский', 'Софрино', 'королёв', 'Орехово-Зуево', 'с. Ершово',\n",
       "       'Душанбе', 'Кашира', 'Подушкино', 'Щелково',\n",
       "       'пос. Нахабино, Московская обл.', 'Красноармейск',\n",
       "       'Зеленоград, Москва', 'Павловский Посад', 'Воскресенск',\n",
       "       'Город на берегу реки', 'Томск', 'Удомля', 'Учалы', 'Ижевск',\n",
       "       'королев', 'Казань', 'Медвежьи Озёра', 'Msc', 'Можайск',\n",
       "       'климовск', 'Малаховка', 'Mосква', 'Александров', 'Тамбов',\n",
       "       'Могадишо', 'Йошкар-Ола', 'Ташкент', 'Маёвник', 'Нахабино ',\n",
       "       'Куса,СтарыйОскол,Москва', 'пересвет', 'Пущино, МО', 'Детчино',\n",
       "       'Рыбинск', 'МО', 'Dolgoprudny', 'Brentford', 'Челябинск', 'химки',\n",
       "       'Владимир', 'Медвёдовск', 'Лобня Московской области',\n",
       "       'город Королев', 'Якутск', 'Ростов', 'Ульяновск, Москва', 'Мосвка',\n",
       "       'Харцызск', 'Оренбург', 'Калининград', 'Монино', 'Пермь',\n",
       "       'Догопрудный', 'Ступино', 'Дзержинский', 'Коренево',\n",
       "       'Пос. Власиха', 'Анжеро-Судженск', 'Zürich', 'пгт. Белоозёрский',\n",
       "       'Птичье', 'Череповец', 'Череповец Вологодская обл.', 'Щербинка',\n",
       "       'Иваново', 'msk', 'Киров', 'Москвп', 'г. Владимир', 'с. Пышлицы',\n",
       "       'Краснозаводск', 'Ковров', 'Орел', 'Московская Область',\n",
       "       'г.Королев', 'МОсква', 'Рига', 'Электростаоь', 'ТОЛЬЯТТИ',\n",
       "       'Архангельск', 'Караганда', 'Владивосток', 'Нерехта',\n",
       "       'Москва г. Троицк', 'Балашов', 'Усово -Тупик', 'МОСВКА',\n",
       "       'Переслаль-Залесский', 'Череповец ', 'г.Рязань', 'Copenhagen',\n",
       "       'Городок', 'Орехово-Зеуво', 'Солнечногорск ', 'калуга',\n",
       "       'Жуковский ', 'Бронницы', 'Миасс', 'Лыткарино, МО', 'челябинск',\n",
       "       'Дзержинск Нижегородской обл.', 'Дзержинск  нижегородская область',\n",
       "       'дзержинск', 'Тирасполь', 'Новокузнецк', 'Нерчинский Завод',\n",
       "       'Златоуст', 'СПб', 'Красково', 'Молоково', 'Изенгард',\n",
       "       'орехово-зуево', 'Ставрополь', 'Брянск', 'волгоград',\n",
       "       'Владивосток ', 'Ростов-на-Дону', 'Москва-Самара', 'Гольяново',\n",
       "       'Орёл', 'Королёв, М.О.', 'Дзержинский ',\n",
       "       'Московская обл., г.Красноармейск', 'г.Москва, г.Троицк',\n",
       "       'пос. Андреевка', 'Барнаул', 'Старый Оскол', 'Krasnogorsk ',\n",
       "       'Кемерово', 'Цюрих', 'Морозовск', 'Минск', 'Москва,г.Зеленоград',\n",
       "       'St. Petersburg', 'Павловский посад', 'Новоуральск', 'воронеж',\n",
       "       'Выборг', 'Ланкастер, Великобритания', 'Наро - Фоминск',\n",
       "       'Московский', 'Моксва', 'Геленджик', 'Котельники',\n",
       "       'Селятино Московской области', 'Алматы', 'Егорьевск', 'Узловая',\n",
       "       'Жуков', 'Пенза', 'Власиха', 'Ростов на Дону', 'Кимры',\n",
       "       'Копенгаген', 'Ленинград', 'Мос', 'Иркутск', 'Полярные Зори',\n",
       "       'Звездный городок', 'Арзамас', 'одинцово', 'планета Земля',\n",
       "       'Федюково', 'Еганово', 'г.Пушкино', 'г.Москва',\n",
       "       'Krasnogorsk, Moscow Region', 'Г.Москва',\n",
       "       'Омск-Томск-Киров-Москва', 'Мичуринск', 'г. Москва, г. Зеленоград',\n",
       "       'Лесной городок', 'Москва, Троицк', 'МСК', 'Щёлково, М.О.',\n",
       "       'Россия, Москва', 'тула', 'Химки, МО', 'Киржач', 'Юрга', 'Луговая',\n",
       "       'электросталь', 'Рождествено', 'Самара', 'Нижний новгород',\n",
       "       'БРОННИЦЫ, Московская область, Россия', 'Auckland, New Zealand',\n",
       "       'Российская Федерация, Москва', 'МО, Лыткарино'], dtype=object)"
      ]
     },
     "execution_count": 215,
     "metadata": {},
     "output_type": "execute_result"
    }
   ],
   "source": [
    "df['Город проживания'].unique()"
   ]
  },
  {
   "cell_type": "markdown",
   "id": "73cb4f41",
   "metadata": {},
   "source": [
    "Москва составляет 9299 / 16505 ≈ 0.56. => Как минимум 56 % учатников из Москвы. Как видно из данных, часть из них записано неправильно(разный регистр, другой язык, дополнительные сведения, опечатки и т.д.). Но не смотря на это мы точно можем сделать вывод, что большинство учатников будет из Москвы, так как слово \"Москва\" уже составляет 56 % и с исправлением данных этот процент может только увеличится. А несколько городов с более чем 50 % быть не может по определению."
   ]
  },
  {
   "cell_type": "markdown",
   "id": "fbce7db7",
   "metadata": {},
   "source": [
    "### Город проживания типичного учатника = Москва"
   ]
  },
  {
   "cell_type": "markdown",
   "id": "ad2dcaaa",
   "metadata": {
    "ExecuteTime": {
     "end_time": "2023-11-03T12:16:00.810031Z",
     "start_time": "2023-11-03T12:16:00.806917Z"
    }
   },
   "source": [
    "## point 5"
   ]
  },
  {
   "cell_type": "code",
   "execution_count": 217,
   "id": "4ad2931c",
   "metadata": {
    "ExecuteTime": {
     "end_time": "2023-11-03T12:18:09.126449Z",
     "start_time": "2023-11-03T12:18:09.066899Z"
    }
   },
   "outputs": [
    {
     "data": {
      "text/html": [
       "<div>\n",
       "<style scoped>\n",
       "    .dataframe tbody tr th:only-of-type {\n",
       "        vertical-align: middle;\n",
       "    }\n",
       "\n",
       "    .dataframe tbody tr th {\n",
       "        vertical-align: top;\n",
       "    }\n",
       "\n",
       "    .dataframe thead th {\n",
       "        text-align: right;\n",
       "    }\n",
       "</style>\n",
       "<table border=\"1\" class=\"dataframe\">\n",
       "  <thead>\n",
       "    <tr style=\"text-align: right;\">\n",
       "      <th></th>\n",
       "      <th>Соревнование</th>\n",
       "      <th>Год проведения</th>\n",
       "      <th>ID участника</th>\n",
       "      <th>Место команды участника</th>\n",
       "      <th>Пол</th>\n",
       "      <th>Год рождения</th>\n",
       "      <th>Город проживания</th>\n",
       "    </tr>\n",
       "  </thead>\n",
       "  <tbody>\n",
       "    <tr>\n",
       "      <th>0</th>\n",
       "      <td>2014 весна</td>\n",
       "      <td>2014</td>\n",
       "      <td>1</td>\n",
       "      <td>602</td>\n",
       "      <td>М</td>\n",
       "      <td>1983</td>\n",
       "      <td>Москва</td>\n",
       "    </tr>\n",
       "    <tr>\n",
       "      <th>1</th>\n",
       "      <td>2014 весна</td>\n",
       "      <td>2014</td>\n",
       "      <td>2</td>\n",
       "      <td>17</td>\n",
       "      <td>М</td>\n",
       "      <td>1987</td>\n",
       "      <td>Москва</td>\n",
       "    </tr>\n",
       "    <tr>\n",
       "      <th>2</th>\n",
       "      <td>2014 весна</td>\n",
       "      <td>2014</td>\n",
       "      <td>3</td>\n",
       "      <td>122</td>\n",
       "      <td>М</td>\n",
       "      <td>1964</td>\n",
       "      <td>Новосибирск</td>\n",
       "    </tr>\n",
       "    <tr>\n",
       "      <th>3</th>\n",
       "      <td>2014 весна</td>\n",
       "      <td>2014</td>\n",
       "      <td>4</td>\n",
       "      <td>602</td>\n",
       "      <td>М</td>\n",
       "      <td>1982</td>\n",
       "      <td>Москва</td>\n",
       "    </tr>\n",
       "    <tr>\n",
       "      <th>4</th>\n",
       "      <td>2014 весна</td>\n",
       "      <td>2014</td>\n",
       "      <td>5</td>\n",
       "      <td>344</td>\n",
       "      <td>М</td>\n",
       "      <td>1983</td>\n",
       "      <td>Cанкт-Петербург</td>\n",
       "    </tr>\n",
       "    <tr>\n",
       "      <th>...</th>\n",
       "      <td>...</td>\n",
       "      <td>...</td>\n",
       "      <td>...</td>\n",
       "      <td>...</td>\n",
       "      <td>...</td>\n",
       "      <td>...</td>\n",
       "      <td>...</td>\n",
       "    </tr>\n",
       "    <tr>\n",
       "      <th>16500</th>\n",
       "      <td>2018 осень</td>\n",
       "      <td>2018</td>\n",
       "      <td>16501</td>\n",
       "      <td>35</td>\n",
       "      <td>М</td>\n",
       "      <td>1980</td>\n",
       "      <td>Москва</td>\n",
       "    </tr>\n",
       "    <tr>\n",
       "      <th>16501</th>\n",
       "      <td>2018 осень</td>\n",
       "      <td>2018</td>\n",
       "      <td>16502</td>\n",
       "      <td>165</td>\n",
       "      <td>М</td>\n",
       "      <td>1981</td>\n",
       "      <td>Москва</td>\n",
       "    </tr>\n",
       "    <tr>\n",
       "      <th>16502</th>\n",
       "      <td>2018 осень</td>\n",
       "      <td>2018</td>\n",
       "      <td>16503</td>\n",
       "      <td>165</td>\n",
       "      <td>Ж</td>\n",
       "      <td>1983</td>\n",
       "      <td>Москва</td>\n",
       "    </tr>\n",
       "    <tr>\n",
       "      <th>16503</th>\n",
       "      <td>2018 осень</td>\n",
       "      <td>2018</td>\n",
       "      <td>16504</td>\n",
       "      <td>590</td>\n",
       "      <td>Ж</td>\n",
       "      <td>1978</td>\n",
       "      <td>Смоленск</td>\n",
       "    </tr>\n",
       "    <tr>\n",
       "      <th>16504</th>\n",
       "      <td>2018 осень</td>\n",
       "      <td>2018</td>\n",
       "      <td>16505</td>\n",
       "      <td>590</td>\n",
       "      <td>Ж</td>\n",
       "      <td>1980</td>\n",
       "      <td>Смоленск</td>\n",
       "    </tr>\n",
       "  </tbody>\n",
       "</table>\n",
       "<p>16505 rows × 7 columns</p>\n",
       "</div>"
      ],
      "text/plain": [
       "      Соревнование  Год проведения  ID участника  Место команды участника Пол   \n",
       "0       2014 весна            2014             1                      602   М  \\\n",
       "1       2014 весна            2014             2                       17   М   \n",
       "2       2014 весна            2014             3                      122   М   \n",
       "3       2014 весна            2014             4                      602   М   \n",
       "4       2014 весна            2014             5                      344   М   \n",
       "...            ...             ...           ...                      ...  ..   \n",
       "16500   2018 осень            2018         16501                       35   М   \n",
       "16501   2018 осень            2018         16502                      165   М   \n",
       "16502   2018 осень            2018         16503                      165   Ж   \n",
       "16503   2018 осень            2018         16504                      590   Ж   \n",
       "16504   2018 осень            2018         16505                      590   Ж   \n",
       "\n",
       "       Год рождения Город проживания  \n",
       "0              1983           Москва  \n",
       "1              1987           Москва  \n",
       "2              1964      Новосибирск  \n",
       "3              1982           Москва  \n",
       "4              1983  Cанкт-Петербург  \n",
       "...             ...              ...  \n",
       "16500          1980           Москва  \n",
       "16501          1981           Москва  \n",
       "16502          1983           Москва  \n",
       "16503          1978         Смоленск  \n",
       "16504          1980         Смоленск  \n",
       "\n",
       "[16505 rows x 7 columns]"
      ]
     },
     "execution_count": 217,
     "metadata": {},
     "output_type": "execute_result"
    }
   ],
   "source": [
    "df"
   ]
  },
  {
   "cell_type": "code",
   "execution_count": 224,
   "id": "5418b905",
   "metadata": {
    "ExecuteTime": {
     "end_time": "2023-11-03T12:20:51.137992Z",
     "start_time": "2023-11-03T12:20:51.132401Z"
    }
   },
   "outputs": [],
   "source": [
    "new_df = df[df[\"Место команды участника\"] <= 100]"
   ]
  },
  {
   "cell_type": "code",
   "execution_count": 225,
   "id": "c781dc6b",
   "metadata": {
    "ExecuteTime": {
     "end_time": "2023-11-03T12:20:51.620724Z",
     "start_time": "2023-11-03T12:20:51.605979Z"
    }
   },
   "outputs": [
    {
     "data": {
      "text/html": [
       "<div>\n",
       "<style scoped>\n",
       "    .dataframe tbody tr th:only-of-type {\n",
       "        vertical-align: middle;\n",
       "    }\n",
       "\n",
       "    .dataframe tbody tr th {\n",
       "        vertical-align: top;\n",
       "    }\n",
       "\n",
       "    .dataframe thead th {\n",
       "        text-align: right;\n",
       "    }\n",
       "</style>\n",
       "<table border=\"1\" class=\"dataframe\">\n",
       "  <thead>\n",
       "    <tr style=\"text-align: right;\">\n",
       "      <th></th>\n",
       "      <th>Соревнование</th>\n",
       "      <th>Год проведения</th>\n",
       "      <th>ID участника</th>\n",
       "      <th>Место команды участника</th>\n",
       "      <th>Пол</th>\n",
       "      <th>Год рождения</th>\n",
       "      <th>Город проживания</th>\n",
       "    </tr>\n",
       "  </thead>\n",
       "  <tbody>\n",
       "    <tr>\n",
       "      <th>1</th>\n",
       "      <td>2014 весна</td>\n",
       "      <td>2014</td>\n",
       "      <td>2</td>\n",
       "      <td>17</td>\n",
       "      <td>М</td>\n",
       "      <td>1987</td>\n",
       "      <td>Москва</td>\n",
       "    </tr>\n",
       "    <tr>\n",
       "      <th>6</th>\n",
       "      <td>2014 весна</td>\n",
       "      <td>2014</td>\n",
       "      <td>7</td>\n",
       "      <td>27</td>\n",
       "      <td>М</td>\n",
       "      <td>1988</td>\n",
       "      <td>Долгопрудный</td>\n",
       "    </tr>\n",
       "    <tr>\n",
       "      <th>11</th>\n",
       "      <td>2014 весна</td>\n",
       "      <td>2014</td>\n",
       "      <td>12</td>\n",
       "      <td>61</td>\n",
       "      <td>М</td>\n",
       "      <td>1986</td>\n",
       "      <td>Санкт-Петербург</td>\n",
       "    </tr>\n",
       "    <tr>\n",
       "      <th>12</th>\n",
       "      <td>2014 весна</td>\n",
       "      <td>2014</td>\n",
       "      <td>13</td>\n",
       "      <td>84</td>\n",
       "      <td>Ж</td>\n",
       "      <td>1976</td>\n",
       "      <td>Москва</td>\n",
       "    </tr>\n",
       "    <tr>\n",
       "      <th>57</th>\n",
       "      <td>2014 весна</td>\n",
       "      <td>2014</td>\n",
       "      <td>58</td>\n",
       "      <td>97</td>\n",
       "      <td>М</td>\n",
       "      <td>1984</td>\n",
       "      <td>Cанкт-Петербург</td>\n",
       "    </tr>\n",
       "    <tr>\n",
       "      <th>...</th>\n",
       "      <td>...</td>\n",
       "      <td>...</td>\n",
       "      <td>...</td>\n",
       "      <td>...</td>\n",
       "      <td>...</td>\n",
       "      <td>...</td>\n",
       "      <td>...</td>\n",
       "    </tr>\n",
       "    <tr>\n",
       "      <th>16492</th>\n",
       "      <td>2018 осень</td>\n",
       "      <td>2018</td>\n",
       "      <td>16493</td>\n",
       "      <td>22</td>\n",
       "      <td>М</td>\n",
       "      <td>1983</td>\n",
       "      <td>Воронеж</td>\n",
       "    </tr>\n",
       "    <tr>\n",
       "      <th>16493</th>\n",
       "      <td>2018 осень</td>\n",
       "      <td>2018</td>\n",
       "      <td>16494</td>\n",
       "      <td>58</td>\n",
       "      <td>М</td>\n",
       "      <td>1982</td>\n",
       "      <td>Салехард</td>\n",
       "    </tr>\n",
       "    <tr>\n",
       "      <th>16494</th>\n",
       "      <td>2018 осень</td>\n",
       "      <td>2018</td>\n",
       "      <td>16495</td>\n",
       "      <td>58</td>\n",
       "      <td>Ж</td>\n",
       "      <td>1981</td>\n",
       "      <td>Красногорск</td>\n",
       "    </tr>\n",
       "    <tr>\n",
       "      <th>16499</th>\n",
       "      <td>2018 осень</td>\n",
       "      <td>2018</td>\n",
       "      <td>16500</td>\n",
       "      <td>35</td>\n",
       "      <td>М</td>\n",
       "      <td>1979</td>\n",
       "      <td>Cанкт-Петербург</td>\n",
       "    </tr>\n",
       "    <tr>\n",
       "      <th>16500</th>\n",
       "      <td>2018 осень</td>\n",
       "      <td>2018</td>\n",
       "      <td>16501</td>\n",
       "      <td>35</td>\n",
       "      <td>М</td>\n",
       "      <td>1980</td>\n",
       "      <td>Москва</td>\n",
       "    </tr>\n",
       "  </tbody>\n",
       "</table>\n",
       "<p>1448 rows × 7 columns</p>\n",
       "</div>"
      ],
      "text/plain": [
       "      Соревнование  Год проведения  ID участника  Место команды участника Пол   \n",
       "1       2014 весна            2014             2                       17   М  \\\n",
       "6       2014 весна            2014             7                       27   М   \n",
       "11      2014 весна            2014            12                       61   М   \n",
       "12      2014 весна            2014            13                       84   Ж   \n",
       "57      2014 весна            2014            58                       97   М   \n",
       "...            ...             ...           ...                      ...  ..   \n",
       "16492   2018 осень            2018         16493                       22   М   \n",
       "16493   2018 осень            2018         16494                       58   М   \n",
       "16494   2018 осень            2018         16495                       58   Ж   \n",
       "16499   2018 осень            2018         16500                       35   М   \n",
       "16500   2018 осень            2018         16501                       35   М   \n",
       "\n",
       "       Год рождения Город проживания  \n",
       "1              1987           Москва  \n",
       "6              1988     Долгопрудный  \n",
       "11             1986  Санкт-Петербург  \n",
       "12             1976           Москва  \n",
       "57             1984  Cанкт-Петербург  \n",
       "...             ...              ...  \n",
       "16492          1983          Воронеж  \n",
       "16493          1982         Салехард  \n",
       "16494          1981      Красногорск  \n",
       "16499          1979  Cанкт-Петербург  \n",
       "16500          1980           Москва  \n",
       "\n",
       "[1448 rows x 7 columns]"
      ]
     },
     "execution_count": 225,
     "metadata": {},
     "output_type": "execute_result"
    }
   ],
   "source": [
    "new_df"
   ]
  },
  {
   "cell_type": "code",
   "execution_count": 226,
   "id": "c0922fee",
   "metadata": {
    "ExecuteTime": {
     "end_time": "2023-11-03T12:21:52.914839Z",
     "start_time": "2023-11-03T12:21:52.908317Z"
    }
   },
   "outputs": [
    {
     "data": {
      "text/plain": [
       "1        1987\n",
       "6        1988\n",
       "11       1986\n",
       "12       1976\n",
       "57       1984\n",
       "         ... \n",
       "16492    1983\n",
       "16493    1982\n",
       "16494    1981\n",
       "16499    1979\n",
       "16500    1980\n",
       "Name: Год рождения, Length: 1448, dtype: int64"
      ]
     },
     "execution_count": 226,
     "metadata": {},
     "output_type": "execute_result"
    }
   ],
   "source": [
    "new_df['Год рождения']"
   ]
  },
  {
   "cell_type": "code",
   "execution_count": 227,
   "id": "9dc6a7d5",
   "metadata": {
    "ExecuteTime": {
     "end_time": "2023-11-03T12:24:40.586710Z",
     "start_time": "2023-11-03T12:24:40.565013Z"
    }
   },
   "outputs": [
    {
     "name": "stdout",
     "output_type": "stream",
     "text": [
      "1982 66\n",
      "1984 150\n",
      "1984 150\n"
     ]
    }
   ],
   "source": [
    "year_mean = int(new_df['Год рождения'].mean())\n",
    "print(year_mean, len(new_df[new_df['Год рождения'] == year_mean]))\n",
    "year_median = int(new_df['Год рождения'].median())\n",
    "print(year_median, len(new_df[new_df['Год рождения'] == year_median]))\n",
    "year_mode = new_df['Год рождения'].mode().iloc[0]\n",
    "print(year_mode, len(new_df[new_df['Год рождения'] == year_mode]))"
   ]
  },
  {
   "cell_type": "code",
   "execution_count": 230,
   "id": "1f6346f0",
   "metadata": {
    "ExecuteTime": {
     "end_time": "2023-11-03T12:28:37.526762Z",
     "start_time": "2023-11-03T12:28:37.521935Z"
    }
   },
   "outputs": [],
   "source": [
    "year_cnt = new_df['Год рождения'].value_counts()"
   ]
  },
  {
   "cell_type": "code",
   "execution_count": 231,
   "id": "a11725ab",
   "metadata": {
    "ExecuteTime": {
     "end_time": "2023-11-03T12:28:38.780380Z",
     "start_time": "2023-11-03T12:28:38.773655Z"
    }
   },
   "outputs": [
    {
     "data": {
      "text/plain": [
       "Год рождения\n",
       "1984    150\n",
       "1988    119\n",
       "1983    104\n",
       "1985     94\n",
       "1981     91\n",
       "1987     89\n",
       "1990     86\n",
       "1989     85\n",
       "1982     66\n",
       "1986     52\n",
       "1991     41\n",
       "1979     39\n",
       "1980     39\n",
       "1978     34\n",
       "1974     32\n",
       "1976     30\n",
       "1992     28\n",
       "1971     27\n",
       "1968     25\n",
       "1993     25\n",
       "1977     23\n",
       "1975     20\n",
       "1969     20\n",
       "1965     16\n",
       "1995     14\n",
       "1994     13\n",
       "1972     10\n",
       "1962     10\n",
       "1956      9\n",
       "1963      9\n",
       "1996      8\n",
       "1973      6\n",
       "2000      5\n",
       "1966      4\n",
       "1967      4\n",
       "1952      3\n",
       "1998      3\n",
       "1997      2\n",
       "1953      2\n",
       "1999      2\n",
       "1970      2\n",
       "1951      2\n",
       "1958      1\n",
       "1961      1\n",
       "1954      1\n",
       "1960      1\n",
       "1964      1\n",
       "Name: count, dtype: int64"
      ]
     },
     "execution_count": 231,
     "metadata": {},
     "output_type": "execute_result"
    }
   ],
   "source": [
    "year_cnt"
   ]
  },
  {
   "cell_type": "code",
   "execution_count": 232,
   "id": "8ea517ed",
   "metadata": {
    "ExecuteTime": {
     "end_time": "2023-11-03T12:30:02.632613Z",
     "start_time": "2023-11-03T12:30:02.626077Z"
    }
   },
   "outputs": [
    {
     "data": {
      "text/plain": [
       "47"
      ]
     },
     "execution_count": 232,
     "metadata": {},
     "output_type": "execute_result"
    }
   ],
   "source": [
    "new_df['Год рождения'].nunique()"
   ]
  },
  {
   "cell_type": "code",
   "execution_count": 233,
   "id": "a5897d36",
   "metadata": {
    "ExecuteTime": {
     "end_time": "2023-11-03T12:31:10.209391Z",
     "start_time": "2023-11-03T12:31:10.204726Z"
    }
   },
   "outputs": [],
   "source": [
    "year_unique = new_df['Год рождения'].unique()"
   ]
  },
  {
   "cell_type": "code",
   "execution_count": 234,
   "id": "e7394ed6",
   "metadata": {
    "ExecuteTime": {
     "end_time": "2023-11-03T12:31:11.504247Z",
     "start_time": "2023-11-03T12:31:11.498241Z"
    }
   },
   "outputs": [
    {
     "data": {
      "text/plain": [
       "array([1987, 1988, 1986, 1976, 1984, 1974, 1968, 1981, 1969, 1951, 1963,\n",
       "       1979, 1982, 1990, 1983, 1975, 1985, 1991, 1989, 1980, 1994, 1978,\n",
       "       1972, 1956, 1971, 1965, 1962, 1952, 1973, 1992, 1966, 2000, 1995,\n",
       "       1993, 1967, 1977, 1970, 1999, 1953, 1958, 1996, 1961, 1998, 1954,\n",
       "       1960, 1997, 1964], dtype=int64)"
      ]
     },
     "execution_count": 234,
     "metadata": {},
     "output_type": "execute_result"
    }
   ],
   "source": [
    "year_unique"
   ]
  },
  {
   "cell_type": "code",
   "execution_count": 235,
   "id": "4d93a95b",
   "metadata": {
    "ExecuteTime": {
     "end_time": "2023-11-03T12:31:18.733362Z",
     "start_time": "2023-11-03T12:31:18.727421Z"
    }
   },
   "outputs": [],
   "source": [
    "cnt_year_unique = []\n",
    "for i in year_unique:\n",
    "    cnt_year_unique.append(year_cnt[i])"
   ]
  },
  {
   "cell_type": "code",
   "execution_count": 236,
   "id": "4312af22",
   "metadata": {
    "ExecuteTime": {
     "end_time": "2023-11-03T12:31:19.681205Z",
     "start_time": "2023-11-03T12:31:19.675880Z"
    }
   },
   "outputs": [],
   "source": [
    "potencial = pd.Series(cnt_year_unique, index=year_unique)"
   ]
  },
  {
   "cell_type": "code",
   "execution_count": 237,
   "id": "b2699222",
   "metadata": {
    "ExecuteTime": {
     "end_time": "2023-11-03T12:31:20.616133Z",
     "start_time": "2023-11-03T12:31:20.608620Z"
    }
   },
   "outputs": [
    {
     "data": {
      "text/plain": [
       "1987     89\n",
       "1988    119\n",
       "1986     52\n",
       "1976     30\n",
       "1984    150\n",
       "1974     32\n",
       "1968     25\n",
       "1981     91\n",
       "1969     20\n",
       "1951      2\n",
       "1963      9\n",
       "1979     39\n",
       "1982     66\n",
       "1990     86\n",
       "1983    104\n",
       "1975     20\n",
       "1985     94\n",
       "1991     41\n",
       "1989     85\n",
       "1980     39\n",
       "1994     13\n",
       "1978     34\n",
       "1972     10\n",
       "1956      9\n",
       "1971     27\n",
       "1965     16\n",
       "1962     10\n",
       "1952      3\n",
       "1973      6\n",
       "1992     28\n",
       "1966      4\n",
       "2000      5\n",
       "1995     14\n",
       "1993     25\n",
       "1967      4\n",
       "1977     23\n",
       "1970      2\n",
       "1999      2\n",
       "1953      2\n",
       "1958      1\n",
       "1996      8\n",
       "1961      1\n",
       "1998      3\n",
       "1954      1\n",
       "1960      1\n",
       "1997      2\n",
       "1964      1\n",
       "dtype: int64"
      ]
     },
     "execution_count": 237,
     "metadata": {},
     "output_type": "execute_result"
    }
   ],
   "source": [
    "potencial"
   ]
  },
  {
   "cell_type": "code",
   "execution_count": 238,
   "id": "6d7d69fa",
   "metadata": {
    "ExecuteTime": {
     "end_time": "2023-11-03T12:31:44.693435Z",
     "start_time": "2023-11-03T12:31:44.689058Z"
    }
   },
   "outputs": [],
   "source": [
    "potencial = potencial.sort_values(ascending=False)"
   ]
  },
  {
   "cell_type": "code",
   "execution_count": 239,
   "id": "a6a135ba",
   "metadata": {
    "ExecuteTime": {
     "end_time": "2023-11-03T12:31:46.434498Z",
     "start_time": "2023-11-03T12:31:46.426503Z"
    }
   },
   "outputs": [
    {
     "data": {
      "text/plain": [
       "1984    150\n",
       "1988    119\n",
       "1983    104\n",
       "1985     94\n",
       "1981     91\n",
       "1987     89\n",
       "1990     86\n",
       "1989     85\n",
       "1982     66\n",
       "1986     52\n",
       "1991     41\n",
       "1979     39\n",
       "1980     39\n",
       "1978     34\n",
       "1974     32\n",
       "1976     30\n",
       "1992     28\n",
       "1971     27\n",
       "1968     25\n",
       "1993     25\n",
       "1977     23\n",
       "1975     20\n",
       "1969     20\n",
       "1965     16\n",
       "1995     14\n",
       "1994     13\n",
       "1972     10\n",
       "1962     10\n",
       "1956      9\n",
       "1963      9\n",
       "1996      8\n",
       "1973      6\n",
       "2000      5\n",
       "1966      4\n",
       "1967      4\n",
       "1952      3\n",
       "1998      3\n",
       "1997      2\n",
       "1953      2\n",
       "1999      2\n",
       "1970      2\n",
       "1951      2\n",
       "1958      1\n",
       "1961      1\n",
       "1954      1\n",
       "1960      1\n",
       "1964      1\n",
       "dtype: int64"
      ]
     },
     "execution_count": 239,
     "metadata": {},
     "output_type": "execute_result"
    }
   ],
   "source": [
    "potencial"
   ]
  },
  {
   "cell_type": "code",
   "execution_count": 240,
   "id": "6bb4ece3",
   "metadata": {
    "ExecuteTime": {
     "end_time": "2023-11-03T12:31:52.438191Z",
     "start_time": "2023-11-03T12:31:51.484512Z"
    }
   },
   "outputs": [
    {
     "data": {
      "image/png": "[encoded data removed]",
      "text/plain": [
       "<Figure size 640x480 with 1 Axes>"
      ]
     },
     "metadata": {},
     "output_type": "display_data"
    }
   ],
   "source": [
    "fig, ax = plt.subplots()\n",
    "\n",
    "ax.bar(year_unique, cnt_year_unique)\n",
    "plt.show()"
   ]
  },
  {
   "cell_type": "markdown",
   "id": "923564a9",
   "metadata": {},
   "source": [
    "В данном случае график немного ассиметричен + имеются выбрросы, а значит среднее значение использовать нецелесообразно и лучше подойдет или мода, или медиана, а так как они равны, то разницы нет."
   ]
  },
  {
   "cell_type": "markdown",
   "id": "543731b4",
   "metadata": {},
   "source": [
    "### Возраст типичного учатника = 1984"
   ]
  },
  {
   "cell_type": "code",
   "execution_count": 241,
   "id": "704b2f50",
   "metadata": {
    "ExecuteTime": {
     "end_time": "2023-11-03T12:40:46.778226Z",
     "start_time": "2023-11-03T12:40:46.771231Z"
    }
   },
   "outputs": [],
   "source": [
    "sex_cnt = new_df['Пол'].value_counts()"
   ]
  },
  {
   "cell_type": "code",
   "execution_count": 242,
   "id": "6cc01a3f",
   "metadata": {
    "ExecuteTime": {
     "end_time": "2023-11-03T12:40:47.662408Z",
     "start_time": "2023-11-03T12:40:47.654368Z"
    }
   },
   "outputs": [
    {
     "data": {
      "text/plain": [
       "Пол\n",
       "М    1217\n",
       "Ж     231\n",
       "Name: count, dtype: int64"
      ]
     },
     "execution_count": 242,
     "metadata": {},
     "output_type": "execute_result"
    }
   ],
   "source": [
    "sex_cnt"
   ]
  },
  {
   "cell_type": "markdown",
   "id": "1a200198",
   "metadata": {},
   "source": [
    "Так как столбец пол принимает 2 противоположных значения, то можно использовать только моду. 1217 / 1448 ≈ 0.84 => 84% участников мужчины."
   ]
  },
  {
   "cell_type": "markdown",
   "id": "517a2db5",
   "metadata": {},
   "source": [
    "### Пол типичного учатника = Мужской"
   ]
  },
  {
   "cell_type": "code",
   "execution_count": 243,
   "id": "65ef3699",
   "metadata": {
    "ExecuteTime": {
     "end_time": "2023-11-03T12:42:49.926852Z",
     "start_time": "2023-11-03T12:42:49.918856Z"
    }
   },
   "outputs": [
    {
     "data": {
      "text/plain": [
       "1                 Москва\n",
       "6           Долгопрудный\n",
       "11       Санкт-Петербург\n",
       "12                Москва\n",
       "57       Cанкт-Петербург\n",
       "              ...       \n",
       "16492            Воронеж\n",
       "16493           Салехард\n",
       "16494        Красногорск\n",
       "16499    Cанкт-Петербург\n",
       "16500             Москва\n",
       "Name: Город проживания, Length: 1448, dtype: object"
      ]
     },
     "execution_count": 243,
     "metadata": {},
     "output_type": "execute_result"
    }
   ],
   "source": [
    "new_df['Город проживания']"
   ]
  },
  {
   "cell_type": "code",
   "execution_count": 244,
   "id": "6205080f",
   "metadata": {
    "ExecuteTime": {
     "end_time": "2023-11-03T12:42:51.632091Z",
     "start_time": "2023-11-03T12:42:51.623822Z"
    }
   },
   "outputs": [
    {
     "data": {
      "text/plain": [
       "Город проживания\n",
       "Москва              668\n",
       "Cанкт-Петербург     189\n",
       "Екатеринбург        165\n",
       "Салехард             43\n",
       "Долгопрудный         26\n",
       "                   ... \n",
       "Майкоп                1\n",
       "Тверь                 1\n",
       "Молоково-Нальчик      1\n",
       "Троицк                1\n",
       "Электросталь          1\n",
       "Name: count, Length: 85, dtype: int64"
      ]
     },
     "execution_count": 244,
     "metadata": {},
     "output_type": "execute_result"
    }
   ],
   "source": [
    "new_df['Город проживания'].value_counts()"
   ]
  },
  {
   "cell_type": "code",
   "execution_count": 245,
   "id": "51f8be5a",
   "metadata": {
    "ExecuteTime": {
     "end_time": "2023-11-03T12:42:52.139344Z",
     "start_time": "2023-11-03T12:42:52.132370Z"
    }
   },
   "outputs": [
    {
     "data": {
      "text/plain": [
       "85"
      ]
     },
     "execution_count": 245,
     "metadata": {},
     "output_type": "execute_result"
    }
   ],
   "source": [
    "new_df['Город проживания'].nunique()"
   ]
  },
  {
   "cell_type": "code",
   "execution_count": 246,
   "id": "2f7205ed",
   "metadata": {
    "ExecuteTime": {
     "end_time": "2023-11-03T12:42:52.634370Z",
     "start_time": "2023-11-03T12:42:52.627370Z"
    }
   },
   "outputs": [
    {
     "data": {
      "text/plain": [
       "array(['Москва', 'Долгопрудный', 'Санкт-Петербург', 'Cанкт-Петербург',\n",
       "       'Таллин', 'Екатеринбург', 'Троицк', 'Клявлино', 'Обнинск',\n",
       "       'село Шеметово (Сергиев Посад)', 'Железнодорожный',\n",
       "       'Молоково-Нальчик', 'Лобня', 'Реутов', 'Подольск', 'Ивантеевка',\n",
       "       'Смоленск', 'МОСКВА', 'Воронеж', 'Липецк', 'Краснознаменск',\n",
       "       'Салехард', 'Мытищи', 'Химки', 'Переделкино',\n",
       "       'Петропавловск-Камчатский', 'Пушкино', 'Тверь', 'москва',\n",
       "       'Люберцы', 'Зеленоград', 'Майкоп', 'Кулебаки', 'Тула', 'Рязань',\n",
       "       'Moscow', 'Дмитров', 'Красногорск', 'г.Владимир', 'Чехов',\n",
       "       'Домодедово', 'Цахкадзор', 'королёв', 'Старая Купавна',\n",
       "       'село Сафарино', 'Водники (Долгопрудный)', 'Митино', 'Лыткарино',\n",
       "       'Сергиев Посад', 'Торжок', 'Новосибирск', 'пос. Ильинский',\n",
       "       'Королев-Кулебаки', 'с. Пышлицы', 'Нерехта', 'Апрелевка',\n",
       "       'Тирасполь', 'Трудовая, МО', 'Луховицы', 'Коломна', 'Жуковский',\n",
       "       'Владивосток', 'Кузяево, МО', 'Нижний Новгород', 'Krasnogorsk ',\n",
       "       'Балашиха', 'Уфа-Москва', 'Королёв', 'Ногинск', 'Уфа/Москва',\n",
       "       'Минск', 'Тамбов', 'Снежинск', 'Москва, Зеленоград', 'Москвп',\n",
       "       'Иркутск', 'Раменское', 'Копенгаген', 'планета Земля',\n",
       "       'п. Зеленоградский (Пушкино)', 'Шушмор', 'Лабытнанги', 'Томск',\n",
       "       'Дзержинск Нижегородской обл.', 'Электросталь'], dtype=object)"
      ]
     },
     "execution_count": 246,
     "metadata": {},
     "output_type": "execute_result"
    }
   ],
   "source": [
    "new_df['Город проживания'].unique()"
   ]
  },
  {
   "cell_type": "code",
   "execution_count": 252,
   "id": "67384c17",
   "metadata": {
    "ExecuteTime": {
     "end_time": "2023-11-03T12:58:02.639905Z",
     "start_time": "2023-11-03T12:58:02.633454Z"
    }
   },
   "outputs": [
    {
     "name": "stdout",
     "output_type": "stream",
     "text": [
      "Город проживания\n",
      "Москва              668\n",
      "Cанкт-Петербург     189\n",
      "Екатеринбург        165\n",
      "Салехард             43\n",
      "Долгопрудный         26\n",
      "                   ... \n",
      "Майкоп                1\n",
      "Тверь                 1\n",
      "Молоково-Нальчик      1\n",
      "Троицк                1\n",
      "Электросталь          1\n",
      "Name: count, Length: 85, dtype: int64\n"
     ]
    }
   ],
   "source": [
    "print(new_df['Город проживания'].value_counts())"
   ]
  },
  {
   "cell_type": "markdown",
   "id": "27f3c2be",
   "metadata": {},
   "source": [
    "Возьмем 3 самых популярных города: \"Москва\", \"Cанкт-Петербург\", \"Екатеринбург\". Будем считать, что они написаны правильно. Они вместе составляют: (668 + 189 + 165) / 1448 ≈ 0.71 % от всех городов по популярности у топ 100 учатников. Предположим, что оставшиеся города написаны неверно и относятся ко 2 по попуялрности городу \"Cанкт-Петербург\". Тогда (1-0.71) * 1448 ≈ 420 учатников с таким городом. 189 + 420 < 668, а значит даже в худшей ситуации Москва все равно будет самым популярным городом по количеству учатников. "
   ]
  },
  {
   "cell_type": "markdown",
   "id": "4a3c5ac7",
   "metadata": {
    "ExecuteTime": {
     "end_time": "2023-11-03T13:05:59.579023Z",
     "start_time": "2023-11-03T13:05:59.575352Z"
    }
   },
   "source": [
    "### Город проживания типичного учатника = Москва"
   ]
  },
  {
   "cell_type": "markdown",
   "id": "a38aea77",
   "metadata": {},
   "source": [
    "В итоге, если и в каждом соревновании рассматривать участников только из первой сотни финишировавших команд поменяется только возраст"
   ]
  }
 ],
 "metadata": {
  "kernelspec": {
   "display_name": "Python 3 (ipykernel)",
   "language": "python",
   "name": "python3"
  },
  "language_info": {
   "codemirror_mode": {
    "name": "ipython",
    "version": 3
   },
   "file_extension": ".py",
   "mimetype": "text/x-python",
   "name": "python",
   "nbconvert_exporter": "python",
   "pygments_lexer": "ipython3",
   "version": "3.11.3"
  },
  "toc": {
   "base_numbering": 1,
   "nav_menu": {},
   "number_sections": true,
   "sideBar": true,
   "skip_h1_title": false,
   "title_cell": "Table of Contents",
   "title_sidebar": "Contents",
   "toc_cell": false,
   "toc_position": {},
   "toc_section_display": true,
   "toc_window_display": false
  }
 },
 "nbformat": 4,
 "nbformat_minor": 5
}
